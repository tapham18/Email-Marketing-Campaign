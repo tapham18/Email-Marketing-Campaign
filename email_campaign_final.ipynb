{
 "cells": [
  {
   "cell_type": "code",
   "execution_count": 443,
   "metadata": {},
   "outputs": [
    {
     "name": "stdout",
     "output_type": "stream",
     "text": [
      "Automatically created module for IPython interactive environment\n"
     ]
    }
   ],
   "source": [
    "# Import necessary modules:\n",
    "import numpy as np\n",
    "import pandas as pd\n",
    "\n",
    "from sklearn.preprocessing import LabelEncoder\n",
    "from sklearn.model_selection import StratifiedShuffleSplit\n",
    "from sklearn.model_selection import train_test_split\n",
    "from collections import Counter\n",
    "from imblearn.under_sampling import RandomUnderSampler\n",
    "\n",
    "from sklearn import tree\n",
    "from sklearn.tree import DecisionTreeClassifier\n",
    "from sklearn.ensemble import GradientBoostingClassifier\n",
    "\n",
    "from sklearn.metrics import confusion_matrix, r2_score\n",
    "import scikitplot as skplt\n",
    "import matplotlib.pyplot as plt\n",
    "import seaborn as sns\n",
    "from __future__ import print_function\n",
    "print(__doc__)\n",
    "from mpl_toolkits.mplot3d import Axes3D\n",
    "from sklearn.ensemble.partial_dependence import plot_partial_dependence\n",
    "from sklearn.ensemble.partial_dependence import partial_dependence\n",
    "\n",
    "from itertools import product"
   ]
  },
  {
   "cell_type": "markdown",
   "metadata": {},
   "source": [
    "# 1. Cleaning and Exploratory Data Analysis:"
   ]
  },
  {
   "cell_type": "code",
   "execution_count": 444,
   "metadata": {},
   "outputs": [],
   "source": [
    "# Read three datasets. Rename email_id columns in email_opened_table and link_clicked_table to make it easier\n",
    "# for an outer merge later:\n",
    "email_1 = pd.read_csv('email_table.csv')\n",
    "email_2 = pd.read_csv('email_opened_table.csv').rename(columns={'email_id':'opened'})\n",
    "email_3 = pd.read_csv('link_clicked_table.csv').rename(columns={'email_id':'clicked'})"
   ]
  },
  {
   "cell_type": "code",
   "execution_count": 445,
   "metadata": {},
   "outputs": [],
   "source": [
    "# Merge email_2 and email_3 with email_1, which includes all metadata necessary for modeling: \n",
    "email = email_1.merge(email_2, left_on='email_id', right_on='opened', how='outer')\n",
    "emails = email.merge(email_3, left_on='email_id', right_on='clicked', how='outer')"
   ]
  },
  {
   "cell_type": "code",
   "execution_count": 446,
   "metadata": {},
   "outputs": [],
   "source": [
    "# Transform email_id and NaN values in opened and clicked to 0 (NaN) and 1 for any other non-null values. \n",
    "# NaN means the email has not beened opened or the linked not clicked. 1 means vice versa:\n",
    "emails['opened'] = emails['opened'].apply(lambda x: 1 if not pd.isnull(x) else 0)\n",
    "emails['clicked'] = emails['clicked'].apply(lambda x: 1 if not pd.isnull(x) else 0)"
   ]
  },
  {
   "cell_type": "code",
   "execution_count": 447,
   "metadata": {},
   "outputs": [],
   "source": [
    "# Drop all duplicates if existed:\n",
    "emails = emails.drop_duplicates()"
   ]
  },
  {
   "cell_type": "code",
   "execution_count": 448,
   "metadata": {},
   "outputs": [],
   "source": [
    "# Remove email_id as it's not necessary for the analysis (in this project):\n",
    "emails = emails.drop(['email_id'], axis=1)"
   ]
  },
  {
   "cell_type": "code",
   "execution_count": 449,
   "metadata": {},
   "outputs": [
    {
     "data": {
      "text/html": [
       "<div>\n",
       "<style scoped>\n",
       "    .dataframe tbody tr th:only-of-type {\n",
       "        vertical-align: middle;\n",
       "    }\n",
       "\n",
       "    .dataframe tbody tr th {\n",
       "        vertical-align: top;\n",
       "    }\n",
       "\n",
       "    .dataframe thead th {\n",
       "        text-align: right;\n",
       "    }\n",
       "</style>\n",
       "<table border=\"1\" class=\"dataframe\">\n",
       "  <thead>\n",
       "    <tr style=\"text-align: right;\">\n",
       "      <th></th>\n",
       "      <th>email_text</th>\n",
       "      <th>email_version</th>\n",
       "      <th>hour</th>\n",
       "      <th>weekday</th>\n",
       "      <th>user_country</th>\n",
       "      <th>user_past_purchases</th>\n",
       "      <th>opened</th>\n",
       "      <th>clicked</th>\n",
       "    </tr>\n",
       "  </thead>\n",
       "  <tbody>\n",
       "    <tr>\n",
       "      <th>0</th>\n",
       "      <td>short_email</td>\n",
       "      <td>personalized</td>\n",
       "      <td>2</td>\n",
       "      <td>Sunday</td>\n",
       "      <td>US</td>\n",
       "      <td>5</td>\n",
       "      <td>0</td>\n",
       "      <td>0</td>\n",
       "    </tr>\n",
       "    <tr>\n",
       "      <th>1</th>\n",
       "      <td>long_email</td>\n",
       "      <td>personalized</td>\n",
       "      <td>12</td>\n",
       "      <td>Sunday</td>\n",
       "      <td>UK</td>\n",
       "      <td>2</td>\n",
       "      <td>1</td>\n",
       "      <td>1</td>\n",
       "    </tr>\n",
       "  </tbody>\n",
       "</table>\n",
       "</div>"
      ],
      "text/plain": [
       "    email_text email_version  hour weekday user_country  user_past_purchases  \\\n",
       "0  short_email  personalized     2  Sunday           US                    5   \n",
       "1   long_email  personalized    12  Sunday           UK                    2   \n",
       "\n",
       "   opened  clicked  \n",
       "0       0        0  \n",
       "1       1        1  "
      ]
     },
     "execution_count": 449,
     "metadata": {},
     "output_type": "execute_result"
    }
   ],
   "source": [
    "# Take a look at the dataset after merging and some preprocessing: \n",
    "emails.head(2)"
   ]
  },
  {
   "cell_type": "code",
   "execution_count": 450,
   "metadata": {},
   "outputs": [
    {
     "data": {
      "text/html": [
       "<div>\n",
       "<style scoped>\n",
       "    .dataframe tbody tr th:only-of-type {\n",
       "        vertical-align: middle;\n",
       "    }\n",
       "\n",
       "    .dataframe tbody tr th {\n",
       "        vertical-align: top;\n",
       "    }\n",
       "\n",
       "    .dataframe thead th {\n",
       "        text-align: right;\n",
       "    }\n",
       "</style>\n",
       "<table border=\"1\" class=\"dataframe\">\n",
       "  <thead>\n",
       "    <tr style=\"text-align: right;\">\n",
       "      <th></th>\n",
       "      <th>email_text</th>\n",
       "      <th>email_version</th>\n",
       "      <th>hour</th>\n",
       "      <th>weekday</th>\n",
       "      <th>user_country</th>\n",
       "      <th>user_past_purchases</th>\n",
       "      <th>opened</th>\n",
       "      <th>clicked</th>\n",
       "    </tr>\n",
       "  </thead>\n",
       "  <tbody>\n",
       "    <tr>\n",
       "      <th>3156</th>\n",
       "      <td>long_email</td>\n",
       "      <td>generic</td>\n",
       "      <td>14</td>\n",
       "      <td>Friday</td>\n",
       "      <td>US</td>\n",
       "      <td>7</td>\n",
       "      <td>0</td>\n",
       "      <td>1</td>\n",
       "    </tr>\n",
       "    <tr>\n",
       "      <th>3527</th>\n",
       "      <td>short_email</td>\n",
       "      <td>generic</td>\n",
       "      <td>14</td>\n",
       "      <td>Saturday</td>\n",
       "      <td>US</td>\n",
       "      <td>4</td>\n",
       "      <td>0</td>\n",
       "      <td>1</td>\n",
       "    </tr>\n",
       "  </tbody>\n",
       "</table>\n",
       "</div>"
      ],
      "text/plain": [
       "       email_text email_version  hour   weekday user_country  \\\n",
       "3156   long_email       generic    14    Friday           US   \n",
       "3527  short_email       generic    14  Saturday           US   \n",
       "\n",
       "      user_past_purchases  opened  clicked  \n",
       "3156                    7       0        1  \n",
       "3527                    4       0        1  "
      ]
     },
     "execution_count": 450,
     "metadata": {},
     "output_type": "execute_result"
    }
   ],
   "source": [
    "# Check if all emails are opened before the link clicked:\n",
    "non_sense = emails[(emails['opened'] == 0) & (emails['clicked'] == 1)]\n",
    "non_sense.head(2)"
   ]
  },
  {
   "cell_type": "markdown",
   "metadata": {},
   "source": [
    "There are 50 links clicked before the email gets opened. There might be something wrong in the data entry process. The safest choice here is to drop all these observations."
   ]
  },
  {
   "cell_type": "code",
   "execution_count": 451,
   "metadata": {},
   "outputs": [],
   "source": [
    "# Drop nonsense observations from the dataframe:\n",
    "emails.drop(emails[(emails['opened'] == 0) & (emails['clicked'] == 1)].index, inplace=True)"
   ]
  },
  {
   "cell_type": "code",
   "execution_count": 452,
   "metadata": {},
   "outputs": [
    {
     "name": "stdout",
     "output_type": "stream",
     "text": [
      "               hour  user_past_purchases        opened      clicked\n",
      "count  99950.000000         99950.000000  99950.000000  99950.00000\n",
      "mean       9.059100             3.878559      0.103502      0.02070\n",
      "std        4.439618             3.196324      0.304615      0.14238\n",
      "min        1.000000             0.000000      0.000000      0.00000\n",
      "25%        6.000000             1.000000      0.000000      0.00000\n",
      "50%        9.000000             3.000000      0.000000      0.00000\n",
      "75%       12.000000             6.000000      0.000000      0.00000\n",
      "max       24.000000            22.000000      1.000000      1.00000\n"
     ]
    }
   ],
   "source": [
    "# Describe the dataset to check if there's still other nonsense observations.\n",
    "# Hour ranges from 1 to 24. This makes sense, so it's unnecessary to change or remove any row. User past purchases\n",
    "# also range from 0 to 22, which seems fine for now:\n",
    "print(emails.describe())"
   ]
  },
  {
   "cell_type": "markdown",
   "metadata": {},
   "source": [
    "Every time an email is opened or a link clicked, opened and clicked columns sum would accumulate by 1.\n",
    "Hence, there is about 10.35 percent of total emails sent get opened. Approximately, 2.12 percent of total \n",
    "emails sent get opened and the linked inside clicked.\n",
    "\n",
    "=> These low percentages of opened emails and clicked links suggest a servere class imbalance that we have to deal with later.\n"
   ]
  },
  {
   "cell_type": "code",
   "execution_count": 453,
   "metadata": {},
   "outputs": [
    {
     "name": "stdout",
     "output_type": "stream",
     "text": [
      "<class 'pandas.core.frame.DataFrame'>\n",
      "Int64Index: 99950 entries, 0 to 99999\n",
      "Data columns (total 8 columns):\n",
      "email_text             99950 non-null object\n",
      "email_version          99950 non-null object\n",
      "hour                   99950 non-null int64\n",
      "weekday                99950 non-null object\n",
      "user_country           99950 non-null object\n",
      "user_past_purchases    99950 non-null int64\n",
      "opened                 99950 non-null int64\n",
      "clicked                99950 non-null int64\n",
      "dtypes: int64(4), object(4)\n",
      "memory usage: 6.9+ MB\n"
     ]
    }
   ],
   "source": [
    "# Check if there is any missing observations: \n",
    "emails.info()"
   ]
  },
  {
   "cell_type": "code",
   "execution_count": 454,
   "metadata": {},
   "outputs": [
    {
     "data": {
      "text/html": [
       "<div>\n",
       "<style scoped>\n",
       "    .dataframe tbody tr th:only-of-type {\n",
       "        vertical-align: middle;\n",
       "    }\n",
       "\n",
       "    .dataframe tbody tr th {\n",
       "        vertical-align: top;\n",
       "    }\n",
       "\n",
       "    .dataframe thead th {\n",
       "        text-align: right;\n",
       "    }\n",
       "</style>\n",
       "<table border=\"1\" class=\"dataframe\">\n",
       "  <thead>\n",
       "    <tr style=\"text-align: right;\">\n",
       "      <th></th>\n",
       "      <th>email_text</th>\n",
       "      <th>email_version</th>\n",
       "      <th>hour</th>\n",
       "      <th>weekday</th>\n",
       "      <th>user_past_purchases</th>\n",
       "      <th>opened</th>\n",
       "      <th>clicked</th>\n",
       "    </tr>\n",
       "    <tr>\n",
       "      <th>user_country</th>\n",
       "      <th></th>\n",
       "      <th></th>\n",
       "      <th></th>\n",
       "      <th></th>\n",
       "      <th></th>\n",
       "      <th></th>\n",
       "      <th></th>\n",
       "    </tr>\n",
       "  </thead>\n",
       "  <tbody>\n",
       "    <tr>\n",
       "      <th>ES</th>\n",
       "      <td>9964</td>\n",
       "      <td>9964</td>\n",
       "      <td>9964</td>\n",
       "      <td>9964</td>\n",
       "      <td>9964</td>\n",
       "      <td>9964</td>\n",
       "      <td>9964</td>\n",
       "    </tr>\n",
       "    <tr>\n",
       "      <th>FR</th>\n",
       "      <td>9989</td>\n",
       "      <td>9989</td>\n",
       "      <td>9989</td>\n",
       "      <td>9989</td>\n",
       "      <td>9989</td>\n",
       "      <td>9989</td>\n",
       "      <td>9989</td>\n",
       "    </tr>\n",
       "    <tr>\n",
       "      <th>UK</th>\n",
       "      <td>19928</td>\n",
       "      <td>19928</td>\n",
       "      <td>19928</td>\n",
       "      <td>19928</td>\n",
       "      <td>19928</td>\n",
       "      <td>19928</td>\n",
       "      <td>19928</td>\n",
       "    </tr>\n",
       "    <tr>\n",
       "      <th>US</th>\n",
       "      <td>60069</td>\n",
       "      <td>60069</td>\n",
       "      <td>60069</td>\n",
       "      <td>60069</td>\n",
       "      <td>60069</td>\n",
       "      <td>60069</td>\n",
       "      <td>60069</td>\n",
       "    </tr>\n",
       "  </tbody>\n",
       "</table>\n",
       "</div>"
      ],
      "text/plain": [
       "              email_text  email_version   hour  weekday  user_past_purchases  \\\n",
       "user_country                                                                   \n",
       "ES                  9964           9964   9964     9964                 9964   \n",
       "FR                  9989           9989   9989     9989                 9989   \n",
       "UK                 19928          19928  19928    19928                19928   \n",
       "US                 60069          60069  60069    60069                60069   \n",
       "\n",
       "              opened  clicked  \n",
       "user_country                   \n",
       "ES              9964     9964  \n",
       "FR              9989     9989  \n",
       "UK             19928    19928  \n",
       "US             60069    60069  "
      ]
     },
     "execution_count": 454,
     "metadata": {},
     "output_type": "execute_result"
    }
   ],
   "source": [
    "# Check if the number of emails sent to different countries are the same:\n",
    "emails.groupby('user_country').count()"
   ]
  },
  {
   "cell_type": "markdown",
   "metadata": {},
   "source": [
    "This is perhaps a campaign targeting mainly US customers. ES and FR are pretty much the same in terms of the number of emails sent."
   ]
  },
  {
   "cell_type": "code",
   "execution_count": 455,
   "metadata": {},
   "outputs": [
    {
     "data": {
      "text/plain": [
       "Text(0.5,1,'Click Rate by Hour')"
      ]
     },
     "execution_count": 455,
     "metadata": {},
     "output_type": "execute_result"
    },
    {
     "data": {
      "image/png": "[encoded data removed]",
      "text/plain": [
       "<Figure size 1080x720 with 6 Axes>"
      ]
     },
     "metadata": {},
     "output_type": "display_data"
    }
   ],
   "source": [
    "# Visualize the relationship of each feature with the target \n",
    "#(percentage of emails opened and the link inside clicked):\n",
    "\n",
    "# Percentage of click counts by long and short email text.\n",
    "# Use mean method because the number of emails sent to different customer segments and countries are different \n",
    "# (Total count would be biased then.)\n",
    "text = emails.groupby('email_text')['clicked'].mean() \n",
    "version = emails.groupby('email_version')['clicked'].mean()\n",
    "country = emails.groupby('user_country')['clicked'].mean()\n",
    "purchases = emails.groupby('user_past_purchases')['clicked'].mean()\n",
    "weekday_1 = pd.DataFrame(emails.groupby('weekday')['clicked'].mean()).sort_values(by=['clicked'])\n",
    "weekday = weekday_1['clicked']\n",
    "hour = emails.groupby('hour')['clicked'].mean()\n",
    "\n",
    "plt.figure(figsize=(15,10))\n",
    "\n",
    "plt.subplot(3,2,1)\n",
    "plt.plot(text, color='red', marker='o', linestyle='dashed',\n",
    "        linewidth=2, markersize=6)\n",
    "plt.title('Click Rate by Email Text')\n",
    "\n",
    "plt.subplot(3,2,2)\n",
    "plt.plot(version, color='red', marker='o', linestyle='dashed',\n",
    "        linewidth=1, markersize=6)\n",
    "plt.title('Click Rate by Email Version')\n",
    "\n",
    "plt.subplot(3,2,3)\n",
    "plt.plot(country, color='red', marker='o', linestyle='dashed',\n",
    "        linewidth=1, markersize=6)\n",
    "plt.title('Click Rate by Country')\n",
    "\n",
    "plt.subplot(3,2,4)\n",
    "plt.plot(purchases, color='red', marker='o', linestyle='dashed',\n",
    "        linewidth=1, markersize=6)\n",
    "plt.title('Click Rate by Past Purchases Count')\n",
    "\n",
    "plt.subplot(3,2,5)\n",
    "plt.plot(weekday_1, color='red', marker='o', linestyle='dashed',\n",
    "        linewidth=1, markersize=6)\n",
    "plt.title('Click Rate by Weekday')\n",
    "\n",
    "plt.subplot(3,2,6)\n",
    "plt.plot(hour, color='red', marker='o', linestyle='dashed',\n",
    "        linewidth=1, markersize=6)\n",
    "plt.title('Click Rate by Hour')"
   ]
  },
  {
   "cell_type": "markdown",
   "metadata": {},
   "source": [
    "1. More short emails get opened and the link inside clicked. This is understandable. Most people don't have too much time reading advertising emails. Hence, it's faster and more tempting to get to the link in a short one. \n",
    "2. Personalized emails get opened and the link inside clicked much more often. \n",
    "3. The company mainly focuses on US and UK markets. Most emails are sent to customers in these countries.\n",
    "ES and FR markets are doing very poorly in terms of click rate.\n",
    "4. Though the number of emails sent to US customers tops the list among four countries (approximately three times the number of emails sent to UK customers). However, the UK customers seem more active with the highest click rate.\n",
    "5. New customers don't often open and click the link inside their emails. Returners, especially those with more than 5 past purchases are more likely to click the link.\n",
    "6. There are several outliners in click rate by past purchases counts. Customers with more than about 22 past purchases always open the link inside their email. This takes further investigation.\n",
    "7. Customers are more likely to open link inside their emails during weekdays. Friday bottoms the list of click rate by weekday. This is understandatble. \n",
    "8. The click rate is highest from 10-16 everyday. Combined with the previous insihgt, it seems that most customers check advertising emails and open ad links at work. This can be a valuable insight for the content creation and marketing teams. \n",
    "9. There are also outliners when it comes to click rate by hour. At 11PM, the click rate is much higher than earlier in the day. This needs further investigation."
   ]
  },
  {
   "cell_type": "code",
   "execution_count": 456,
   "metadata": {},
   "outputs": [
    {
     "data": {
      "text/html": [
       "<div>\n",
       "<style scoped>\n",
       "    .dataframe tbody tr th:only-of-type {\n",
       "        vertical-align: middle;\n",
       "    }\n",
       "\n",
       "    .dataframe tbody tr th {\n",
       "        vertical-align: top;\n",
       "    }\n",
       "\n",
       "    .dataframe thead th {\n",
       "        text-align: right;\n",
       "    }\n",
       "</style>\n",
       "<table border=\"1\" class=\"dataframe\">\n",
       "  <thead>\n",
       "    <tr style=\"text-align: right;\">\n",
       "      <th></th>\n",
       "      <th>email_text</th>\n",
       "      <th>email_version</th>\n",
       "      <th>hour</th>\n",
       "      <th>weekday</th>\n",
       "      <th>user_country</th>\n",
       "      <th>user_past_purchases</th>\n",
       "      <th>opened</th>\n",
       "      <th>clicked</th>\n",
       "    </tr>\n",
       "  </thead>\n",
       "  <tbody>\n",
       "    <tr>\n",
       "      <th>5123</th>\n",
       "      <td>long_email</td>\n",
       "      <td>personalized</td>\n",
       "      <td>16</td>\n",
       "      <td>Monday</td>\n",
       "      <td>US</td>\n",
       "      <td>22</td>\n",
       "      <td>1</td>\n",
       "      <td>1</td>\n",
       "    </tr>\n",
       "    <tr>\n",
       "      <th>10366</th>\n",
       "      <td>long_email</td>\n",
       "      <td>generic</td>\n",
       "      <td>12</td>\n",
       "      <td>Monday</td>\n",
       "      <td>US</td>\n",
       "      <td>21</td>\n",
       "      <td>0</td>\n",
       "      <td>0</td>\n",
       "    </tr>\n",
       "    <tr>\n",
       "      <th>13885</th>\n",
       "      <td>long_email</td>\n",
       "      <td>generic</td>\n",
       "      <td>14</td>\n",
       "      <td>Tuesday</td>\n",
       "      <td>FR</td>\n",
       "      <td>21</td>\n",
       "      <td>1</td>\n",
       "      <td>1</td>\n",
       "    </tr>\n",
       "    <tr>\n",
       "      <th>24535</th>\n",
       "      <td>short_email</td>\n",
       "      <td>personalized</td>\n",
       "      <td>9</td>\n",
       "      <td>Tuesday</td>\n",
       "      <td>UK</td>\n",
       "      <td>21</td>\n",
       "      <td>0</td>\n",
       "      <td>0</td>\n",
       "    </tr>\n",
       "    <tr>\n",
       "      <th>32881</th>\n",
       "      <td>short_email</td>\n",
       "      <td>generic</td>\n",
       "      <td>7</td>\n",
       "      <td>Wednesday</td>\n",
       "      <td>UK</td>\n",
       "      <td>21</td>\n",
       "      <td>1</td>\n",
       "      <td>1</td>\n",
       "    </tr>\n",
       "  </tbody>\n",
       "</table>\n",
       "</div>"
      ],
      "text/plain": [
       "        email_text email_version  hour    weekday user_country  \\\n",
       "5123    long_email  personalized    16     Monday           US   \n",
       "10366   long_email       generic    12     Monday           US   \n",
       "13885   long_email       generic    14    Tuesday           FR   \n",
       "24535  short_email  personalized     9    Tuesday           UK   \n",
       "32881  short_email       generic     7  Wednesday           UK   \n",
       "\n",
       "       user_past_purchases  opened  clicked  \n",
       "5123                    22       1        1  \n",
       "10366                   21       0        0  \n",
       "13885                   21       1        1  \n",
       "24535                   21       0        0  \n",
       "32881                   21       1        1  "
      ]
     },
     "execution_count": 456,
     "metadata": {},
     "output_type": "execute_result"
    }
   ],
   "source": [
    "# Take a look at returners with higher than 20 past purchases:\n",
    "emails[emails['user_past_purchases'] > 20]"
   ]
  },
  {
   "cell_type": "markdown",
   "metadata": {},
   "source": [
    "They have much higher click rate than the overall rate but the group is only of 5. "
   ]
  },
  {
   "cell_type": "code",
   "execution_count": 457,
   "metadata": {},
   "outputs": [
    {
     "name": "stdout",
     "output_type": "stream",
     "text": [
      "0.037383177570093455\n",
      "214\n"
     ]
    }
   ],
   "source": [
    "# Take a look at customers clicking provided link very late:\n",
    "print(emails[emails['hour'] > 22]['clicked'].mean())\n",
    "print(emails[emails['hour'] > 22]['clicked'].count())"
   ]
  },
  {
   "cell_type": "markdown",
   "metadata": {},
   "source": [
    "Though the click rate at 23 is much higher than earlier hours in the day, there are only 145 customers have this behavior.\n",
    "So there is not really a pattern that we can exploit here."
   ]
  },
  {
   "cell_type": "code",
   "execution_count": 458,
   "metadata": {},
   "outputs": [],
   "source": [
    "# Because outliers of both features - hour and user purchases - do not contain meaningful patterns, \n",
    "# I remove them here. Just to prevent the case outliers severely skew the CTR (click through rate):\n",
    "emails = emails[(emails['user_past_purchases'] < 20) & (emails['hour'] < 22)]"
   ]
  },
  {
   "cell_type": "code",
   "execution_count": 461,
   "metadata": {},
   "outputs": [],
   "source": [
    "# Create a copy of the dataset in case it would be helpful later:\n",
    "emails_1 = emails.copy()"
   ]
  },
  {
   "cell_type": "code",
   "execution_count": 462,
   "metadata": {},
   "outputs": [
    {
     "data": {
      "image/png": "[encoded data removed]",
      "text/plain": [
       "<Figure size 576x288 with 2 Axes>"
      ]
     },
     "metadata": {},
     "output_type": "display_data"
    }
   ],
   "source": [
    "# Short email and personalized email separately increase click rate. Check the interaction between these\n",
    "# two features:\n",
    "fg = sns.factorplot(x='email_text', \n",
    "                    y='clicked',\n",
    "                    col='email_version', \n",
    "                    data=emails.groupby(['email_text', 'email_version'])['clicked'].mean().to_frame().reset_index(), \n",
    "                    kind='bar')"
   ]
  },
  {
   "cell_type": "markdown",
   "metadata": {},
   "source": [
    "Personalized short emails are those with highest click rate. It might be helpful to create an interaction feature of these two features."
   ]
  },
  {
   "cell_type": "markdown",
   "metadata": {},
   "source": [
    "# 2. Prepare Data for Analysis"
   ]
  },
  {
   "cell_type": "code",
   "execution_count": 463,
   "metadata": {},
   "outputs": [],
   "source": [
    "# I will use gradient boosting and decision tree models later. Hence, it's suitable to label encode \n",
    "# several features in the dataset:\n",
    "le = LabelEncoder()\n",
    "emails['email_text'] = le.fit_transform(emails['email_text'])\n",
    "emails['email_version'] = le.fit_transform(emails['email_version'])\n",
    "emails['weekday'] = le.fit_transform(emails['weekday'])\n",
    "emails['user_country'] = le.fit_transform(emails['user_country'])"
   ]
  },
  {
   "cell_type": "code",
   "execution_count": 464,
   "metadata": {},
   "outputs": [],
   "source": [
    "# Create the interaction feature of text_version and email_text\n",
    "emails['text_version'] = emails['email_text'] * emails['email_version']"
   ]
  },
  {
   "cell_type": "code",
   "execution_count": 465,
   "metadata": {},
   "outputs": [
    {
     "data": {
      "text/html": [
       "<div>\n",
       "<style scoped>\n",
       "    .dataframe tbody tr th:only-of-type {\n",
       "        vertical-align: middle;\n",
       "    }\n",
       "\n",
       "    .dataframe tbody tr th {\n",
       "        vertical-align: top;\n",
       "    }\n",
       "\n",
       "    .dataframe thead th {\n",
       "        text-align: right;\n",
       "    }\n",
       "</style>\n",
       "<table border=\"1\" class=\"dataframe\">\n",
       "  <thead>\n",
       "    <tr style=\"text-align: right;\">\n",
       "      <th></th>\n",
       "      <th>email_text</th>\n",
       "      <th>email_version</th>\n",
       "      <th>hour</th>\n",
       "      <th>weekday</th>\n",
       "      <th>user_country</th>\n",
       "      <th>user_past_purchases</th>\n",
       "      <th>opened</th>\n",
       "      <th>clicked</th>\n",
       "      <th>text_version</th>\n",
       "    </tr>\n",
       "  </thead>\n",
       "  <tbody>\n",
       "    <tr>\n",
       "      <th>0</th>\n",
       "      <td>1</td>\n",
       "      <td>1</td>\n",
       "      <td>2</td>\n",
       "      <td>6</td>\n",
       "      <td>3</td>\n",
       "      <td>5</td>\n",
       "      <td>0</td>\n",
       "      <td>0</td>\n",
       "      <td>1</td>\n",
       "    </tr>\n",
       "    <tr>\n",
       "      <th>1</th>\n",
       "      <td>0</td>\n",
       "      <td>1</td>\n",
       "      <td>12</td>\n",
       "      <td>6</td>\n",
       "      <td>2</td>\n",
       "      <td>2</td>\n",
       "      <td>1</td>\n",
       "      <td>1</td>\n",
       "      <td>0</td>\n",
       "    </tr>\n",
       "  </tbody>\n",
       "</table>\n",
       "</div>"
      ],
      "text/plain": [
       "   email_text  email_version  hour  weekday  user_country  \\\n",
       "0           1              1     2        6             3   \n",
       "1           0              1    12        6             2   \n",
       "\n",
       "   user_past_purchases  opened  clicked  text_version  \n",
       "0                    5       0        0             1  \n",
       "1                    2       1        1             0  "
      ]
     },
     "execution_count": 465,
     "metadata": {},
     "output_type": "execute_result"
    }
   ],
   "source": [
    "# Take a look at the dataset now:\n",
    "emails.head(2)"
   ]
  },
  {
   "cell_type": "code",
   "execution_count": 466,
   "metadata": {},
   "outputs": [],
   "source": [
    "# Create features and labels for classification models:\n",
    "X = emails.drop(['clicked', 'opened'], axis=1)\n",
    "y = emails[['clicked']]"
   ]
  },
  {
   "cell_type": "code",
   "execution_count": 467,
   "metadata": {},
   "outputs": [
    {
     "name": "stdout",
     "output_type": "stream",
     "text": [
      "Resampled dataset shape Counter({0: 2055, 1: 2055})\n"
     ]
    },
    {
     "name": "stderr",
     "output_type": "stream",
     "text": [
      "/Users/tapham18/anaconda3/lib/python3.6/site-packages/sklearn/utils/validation.py:578: DataConversionWarning: A column-vector y was passed when a 1d array was expected. Please change the shape of y to (n_samples, ), for example using ravel().\n",
      "  y = column_or_1d(y, warn=True)\n",
      "/Users/tapham18/anaconda3/lib/python3.6/site-packages/sklearn/utils/validation.py:578: DataConversionWarning: A column-vector y was passed when a 1d array was expected. Please change the shape of y to (n_samples, ), for example using ravel().\n",
      "  y = column_or_1d(y, warn=True)\n"
     ]
    }
   ],
   "source": [
    "# Now I need to cope with the severe class imbalance problem. For decision tree, I can easily increase\n",
    "# class weight of underrepresented class later. For gradient boosting classifer, the simplest and safest choice\n",
    "# here would be randomly under-sample the dataset:\n",
    "rus = RandomUnderSampler(random_state=43)\n",
    "X_res, y_res = rus.fit_sample(X, y)\n",
    "print('Resampled dataset shape {}'.format(Counter(y_res)))"
   ]
  },
  {
   "cell_type": "code",
   "execution_count": null,
   "metadata": {},
   "outputs": [],
   "source": [
    "# Now I have a dataset composed equally of classes 0 and 1. X_rest and y_res are series, so I need to transform\n",
    "# them into pandas dataframes:\n",
    "X_1 = pd.DataFrame(X_res, columns = X.columns)\n",
    "y_1 = pd.DataFrame(y_res, columns = y.columns)"
   ]
  },
  {
   "cell_type": "code",
   "execution_count": null,
   "metadata": {},
   "outputs": [],
   "source": [
    "# Separate train and test sets with normal tran_test_split because there's no longer class imbalance in X_1 and y_1:\n",
    "X_train, X_test, y_train, y_test = train_test_split(X_1, y_1, test_size=0.3, random_state=43)"
   ]
  },
  {
   "cell_type": "markdown",
   "metadata": {},
   "source": [
    "# 3. Modeling"
   ]
  },
  {
   "cell_type": "markdown",
   "metadata": {},
   "source": [
    "# Gradient Boosting Classifier"
   ]
  },
  {
   "cell_type": "code",
   "execution_count": 470,
   "metadata": {},
   "outputs": [
    {
     "name": "stderr",
     "output_type": "stream",
     "text": [
      "/Users/tapham18/anaconda3/lib/python3.6/site-packages/sklearn/utils/validation.py:578: DataConversionWarning: A column-vector y was passed when a 1d array was expected. Please change the shape of y to (n_samples, ), for example using ravel().\n",
      "  y = column_or_1d(y, warn=True)\n"
     ]
    }
   ],
   "source": [
    "# Instantiate the gradient boosting classifer:\n",
    "gbc = GradientBoostingClassifier(learning_rate=0.2, random_state=1)\n",
    "# Fit the classifier to X_train and y_train:\n",
    "gbc.fit(X_train, y_train)\n",
    "# Predict clicked class for X_test:\n",
    "p = gbc.predict(X_test)"
   ]
  },
  {
   "cell_type": "code",
   "execution_count": 472,
   "metadata": {},
   "outputs": [
    {
     "name": "stderr",
     "output_type": "stream",
     "text": [
      "/Users/tapham18/anaconda3/lib/python3.6/site-packages/matplotlib/cbook/deprecation.py:107: MatplotlibDeprecationWarning: Passing one of 'on', 'true', 'off', 'false' as a boolean is deprecated; use an actual boolean (True/False) instead.\n",
      "  warnings.warn(message, mplDeprecation, stacklevel=1)\n"
     ]
    },
    {
     "data": {
      "text/plain": [
       "<matplotlib.axes._subplots.AxesSubplot at 0x1a293e5c50>"
      ]
     },
     "execution_count": 472,
     "metadata": {},
     "output_type": "execute_result"
    },
    {
     "data": {
      "image/png": "[encoded data removed]",
      "text/plain": [
       "<Figure size 432x288 with 2 Axes>"
      ]
     },
     "metadata": {},
     "output_type": "display_data"
    }
   ],
   "source": [
    "# Plot a confusion matrix to see how the classifier does:\n",
    "skplt.metrics.plot_confusion_matrix(y_test, p, normalize=True)"
   ]
  },
  {
   "cell_type": "markdown",
   "metadata": {},
   "source": [
    "Gradient boosting classifier does a decent job in this case. I mainly care about the true positive rate (1:1). True positive rate is 0.7, which is acceptable in the industry. Also, true negative rate in this case is not particularly low. \n",
    "\n",
    "For the acceptable results above, I can move on the see how clicked or not depends on different features in the models."
   ]
  },
  {
   "cell_type": "code",
   "execution_count": 473,
   "metadata": {},
   "outputs": [
    {
     "data": {
      "image/png": "[encoded data removed]",
      "text/plain": [
       "<Figure size 432x288 with 6 Axes>"
      ]
     },
     "metadata": {},
     "output_type": "display_data"
    },
    {
     "data": {
      "text/plain": [
       "<Figure size 720x7200 with 0 Axes>"
      ]
     },
     "metadata": {},
     "output_type": "display_data"
    }
   ],
   "source": [
    "# Plot the partial dependence plot:\n",
    "def main():\n",
    "    names = X.columns\n",
    "    features = [0, 1, 2, 3, 4, 5]\n",
    "    fig, axs = plot_partial_dependence(gbc, X_train, features,\n",
    "                                       feature_names=names,\n",
    "                                       n_cols=2,\n",
    "                                       n_jobs=3, grid_resolution=10)\n",
    "    \n",
    "    plt.subplots_adjust(top=2) \n",
    "    fig = plt.figure(figsize = (10,100))\n",
    "    fig.suptitle('Partial dependence of CTR on controllable factors')\n",
    "    plt.show()\n",
    "\n",
    "if __name__ == '__main__':\n",
    "    main()"
   ]
  },
  {
   "cell_type": "markdown",
   "metadata": {},
   "source": [
    "- The partial dependence plot once again confirms my initial observations. \n",
    "- Links in short and personalized emails are more likely to get clicked. \n",
    "- Most links are clicked around 9-10AM on Tuesday-Wednesday. \n",
    "- ES and FR does poorly in terms of CTR while UK and US do fairly well.\n",
    "- The more purchases a customer placed in the past, the more likely s/he would click on links received. Interestingly, this tendency is steeper for recent customers ( fewer than 4 purchases).\n",
    "- User past purchases and user country are two features that I indeed don't have control of. "
   ]
  },
  {
   "cell_type": "markdown",
   "metadata": {},
   "source": [
    "# Decision Tree"
   ]
  },
  {
   "cell_type": "code",
   "execution_count": 474,
   "metadata": {},
   "outputs": [
    {
     "data": {
      "text/plain": [
       "0    29239\n",
       "1      617\n",
       "Name: clicked, dtype: int64"
      ]
     },
     "execution_count": 474,
     "metadata": {},
     "output_type": "execute_result"
    }
   ],
   "source": [
    "# It's also helpful to run a simple decision tree to validate the results of the gradient boosting classifer\n",
    "# without two features that I don't have control of.\n",
    "# Decision tree classifier can be applied to the emails dataset at its original scale. \n",
    "# However, because two classes are severely imbalanced, I use Stratefied Shuffle Split \n",
    "# to shuffle observations and preserve the percentage of classes similar to that in the original dataset.\n",
    "# This would obviate the situation when all and disproportionately many 1 class observations get divided \n",
    "# in either training or test set, which hinders the prediction of the important label.\n",
    "\n",
    "# This time, I drop two features\n",
    "X_2 = emails.drop(['clicked', 'opened', 'user_country', 'user_past_purchases'], axis=1)\n",
    "sss.get_n_splits(X_2, y)\n",
    " \n",
    "for train_index, test_index in sss.split(X_2, y):\n",
    "    X_train_1, X_test_1 = X_2.iloc[train_index], X_2.iloc[test_index]\n",
    "    y_train_1, y_test_1 = y.iloc[train_index], y.iloc[test_index]\n",
    "\n",
    "# Check the ratio of two classes in test set:\n",
    "y_test_1['clicked'].value_counts()"
   ]
  },
  {
   "cell_type": "code",
   "execution_count": 475,
   "metadata": {},
   "outputs": [],
   "source": [
    "# Build a simple tree to double check the prediction. Pre-prune the tree by limiting max_depth \n",
    "# to avoid overfitting:\n",
    "dt = DecisionTreeClassifier(max_depth = 4, class_weight = {0:1,1:50})\n",
    "dt.fit(X_train_1, y_train_1)\n",
    "y_pred_2 = dt.predict(X_test_1)"
   ]
  },
  {
   "cell_type": "code",
   "execution_count": 476,
   "metadata": {},
   "outputs": [
    {
     "name": "stderr",
     "output_type": "stream",
     "text": [
      "/Users/tapham18/anaconda3/lib/python3.6/site-packages/matplotlib/cbook/deprecation.py:107: MatplotlibDeprecationWarning: Passing one of 'on', 'true', 'off', 'false' as a boolean is deprecated; use an actual boolean (True/False) instead.\n",
      "  warnings.warn(message, mplDeprecation, stacklevel=1)\n"
     ]
    },
    {
     "data": {
      "text/plain": [
       "<matplotlib.axes._subplots.AxesSubplot at 0x1a283055f8>"
      ]
     },
     "execution_count": 476,
     "metadata": {},
     "output_type": "execute_result"
    },
    {
     "data": {
      "image/png": "[encoded data removed]",
      "text/plain": [
       "<Figure size 432x288 with 2 Axes>"
      ]
     },
     "metadata": {},
     "output_type": "display_data"
    }
   ],
   "source": [
    "# Create a confustion matrix for the tree:\n",
    "skplt.metrics.plot_confusion_matrix(y_test_1, y_pred_2, normalize=True)"
   ]
  },
  {
   "cell_type": "markdown",
   "metadata": {},
   "source": [
    "A simple decision tree does not perform as well as gradient boosting classifier yielding only 0.52 true negative rate and 0.63 true positive rate. However, I mostly care about true positive rate and 0.63 is a decent number. Let's take a look at the tree nodes."
   ]
  },
  {
   "cell_type": "code",
   "execution_count": 477,
   "metadata": {},
   "outputs": [],
   "source": [
    "# Print root and top nodes of the tree:\n",
    "tree.export_graphviz(dt, out_file='trees.dot', max_depth = 5, feature_names = X_2.columns) "
   ]
  },
  {
   "cell_type": "raw",
   "metadata": {},
   "source": [
    "0 [label=\"email_version <= 0.5\\ngini = 0.5\\nsamples = 69661\\nvalue = [68223, 71900]\"] ;\n",
    "1 [label=\"weekday <= 3.5\\ngini = 0.489\\nsamples = 34960\\nvalue = [34449, 25550]\"] ;\n",
    "0 -> 1 [labeldistance=2.5, labelangle=45, headlabel=\"True\"] ;\n",
    "2 [label=\"hour <= 8.5\\ngini = 0.499\\nsamples = 19869\\nvalue = [19504, 18250]\"] ;\n",
    "1 -> 2 ;\n",
    "3 [label=\"weekday <= 0.5\\ngini = 0.489\\nsamples = 9425\\nvalue = [9287, 6900]\"] ;\n",
    "2 -> 3 ;\n",
    "4 [label=\"gini = 0.476\\nsamples = 2373\\nvalue = [2343, 1500]\"] ;\n",
    "3 -> 4 ;\n",
    "5 [label=\"gini = 0.492\\nsamples = 7052\\nvalue = [6944, 5400]\"] ;\n",
    "3 -> 5 ;\n",
    "6 [label=\"hour <= 13.5\\ngini = 0.499\\nsamples = 10444\\nvalue = [10217, 11350]\"] ;\n",
    "2 -> 6 ;\n",
    "7 [label=\"gini = 0.492\\nsamples = 7223\\nvalue = [7040, 9150]\"] ;\n",
    "6 -> 7 ;\n",
    "8 [label=\"gini = 0.483\\nsamples = 3221\\nvalue = [3177, 2200]\"] ;\n",
    "6 -> 8 ;\n",
    "9 [label=\"hour <= 15.5\\ngini = 0.441\\nsamples = 15091\\nvalue = [14945, 7300]\"] ;"
   ]
  },
  {
   "cell_type": "markdown",
   "metadata": {},
   "source": [
    "1. A shallow tree confirms that email version, weekday, and hour are all very informative.\n",
    "2. Personalized emails sent on weekdays after 8.5 AM are more likely to have the links get clicked."
   ]
  },
  {
   "cell_type": "markdown",
   "metadata": {},
   "source": [
    "# Personalization:"
   ]
  },
  {
   "cell_type": "markdown",
   "metadata": {},
   "source": [
    "Now, I don't have control of the number of past purchases or the user countries. The only thing I could do to improve the email campaign's effectiveness is to send 'smarter' emails. Hence, I would personalize the adjustable features of emails sent to different customer segments with the help of gradient boosting model."
   ]
  },
  {
   "cell_type": "code",
   "execution_count": null,
   "metadata": {},
   "outputs": [],
   "source": [
    "# Create 6 lists of values of all features I have:\n",
    "email_text = emails.email_text.unique()\n",
    "email_version = emails.email_version.unique()\n",
    "hour = emails.hour.unique()\n",
    "weekday = emails.weekday.unique()\n",
    "user_past_purchases = emails.user_past_purchases.unique()\n",
    "user_country = emails.user_country.unique()"
   ]
  },
  {
   "cell_type": "code",
   "execution_count": 546,
   "metadata": {},
   "outputs": [],
   "source": [
    "# Create a dataframe of all combinations of different features values called testing:\n",
    "testing = pd.DataFrame(list(product(email_text, email_version, hour, weekday, user_past_purchases, user_country)), \n",
    "                       columns=['email_text', 'email_version', 'hour', 'weekday', 'user_past_purchases', 'user_country'])\n",
    "# Create an interaction feature between text_version and email_text so that it would be comparable with the data\n",
    "# I have used to build the boosting model:\n",
    "testing['text_version'] = testing['email_text'] * testing['email_version']"
   ]
  },
  {
   "cell_type": "code",
   "execution_count": 547,
   "metadata": {},
   "outputs": [
    {
     "data": {
      "text/html": [
       "<div>\n",
       "<style scoped>\n",
       "    .dataframe tbody tr th:only-of-type {\n",
       "        vertical-align: middle;\n",
       "    }\n",
       "\n",
       "    .dataframe tbody tr th {\n",
       "        vertical-align: top;\n",
       "    }\n",
       "\n",
       "    .dataframe thead th {\n",
       "        text-align: right;\n",
       "    }\n",
       "</style>\n",
       "<table border=\"1\" class=\"dataframe\">\n",
       "  <thead>\n",
       "    <tr style=\"text-align: right;\">\n",
       "      <th></th>\n",
       "      <th>email_text</th>\n",
       "      <th>email_version</th>\n",
       "      <th>hour</th>\n",
       "      <th>weekday</th>\n",
       "      <th>user_past_purchases</th>\n",
       "      <th>user_country</th>\n",
       "      <th>text_version</th>\n",
       "    </tr>\n",
       "  </thead>\n",
       "  <tbody>\n",
       "    <tr>\n",
       "      <th>0</th>\n",
       "      <td>0</td>\n",
       "      <td>0</td>\n",
       "      <td>2</td>\n",
       "      <td>0</td>\n",
       "      <td>5</td>\n",
       "      <td>0</td>\n",
       "      <td>0</td>\n",
       "    </tr>\n",
       "    <tr>\n",
       "      <th>1</th>\n",
       "      <td>0</td>\n",
       "      <td>0</td>\n",
       "      <td>2</td>\n",
       "      <td>0</td>\n",
       "      <td>5</td>\n",
       "      <td>1</td>\n",
       "      <td>0</td>\n",
       "    </tr>\n",
       "    <tr>\n",
       "      <th>2</th>\n",
       "      <td>0</td>\n",
       "      <td>0</td>\n",
       "      <td>2</td>\n",
       "      <td>0</td>\n",
       "      <td>5</td>\n",
       "      <td>2</td>\n",
       "      <td>0</td>\n",
       "    </tr>\n",
       "    <tr>\n",
       "      <th>3</th>\n",
       "      <td>0</td>\n",
       "      <td>0</td>\n",
       "      <td>2</td>\n",
       "      <td>0</td>\n",
       "      <td>5</td>\n",
       "      <td>3</td>\n",
       "      <td>0</td>\n",
       "    </tr>\n",
       "    <tr>\n",
       "      <th>4</th>\n",
       "      <td>0</td>\n",
       "      <td>0</td>\n",
       "      <td>2</td>\n",
       "      <td>0</td>\n",
       "      <td>2</td>\n",
       "      <td>0</td>\n",
       "      <td>0</td>\n",
       "    </tr>\n",
       "  </tbody>\n",
       "</table>\n",
       "</div>"
      ],
      "text/plain": [
       "   email_text  email_version  hour  weekday  user_past_purchases  \\\n",
       "0           0              0     2        0                    5   \n",
       "1           0              0     2        0                    5   \n",
       "2           0              0     2        0                    5   \n",
       "3           0              0     2        0                    5   \n",
       "4           0              0     2        0                    2   \n",
       "\n",
       "   user_country  text_version  \n",
       "0             0             0  \n",
       "1             1             0  \n",
       "2             2             0  \n",
       "3             3             0  \n",
       "4             0             0  "
      ]
     },
     "execution_count": 547,
     "metadata": {},
     "output_type": "execute_result"
    }
   ],
   "source": [
    "# Take a look at the testing dataset:\n",
    "testing.head(5)"
   ]
  },
  {
   "cell_type": "code",
   "execution_count": 548,
   "metadata": {},
   "outputs": [],
   "source": [
    "# Use the boosting model to predict whether a customer would click on the link after receive the email. Add those\n",
    "# predictions to the testing dataset:\n",
    "testing['predictions'] = gbc.predict(testing)"
   ]
  },
  {
   "cell_type": "code",
   "execution_count": null,
   "metadata": {},
   "outputs": [],
   "source": [
    "# Create a dataframe for recent customers (fewer than 4 purchases) in Spain:\n",
    "testing1 = testing[(testing['user_past_purchases']<4) & (testing['user_country'] == 0)]\n",
    "# Create a dataframe for returning customers (more than 4 purchases) in Spain:\n",
    "testing2 = testing[(testing['user_past_purchases']>4) & (testing['user_country'] == 0)]\n",
    "# Create a dataframe for recent customers (fewer than 4 purchases) in France:\n",
    "testing3 = testing[(testing['user_past_purchases']<4) & (testing['user_country'] == 1)]\n",
    "# Create a dataframe for returning customers (more than 4 purchases) in France:\n",
    "testing4 = testing[(testing['user_past_purchases']>4) & (testing['user_country'] == 1)]\n",
    "# Create a dataframe for recent customers (fewer than 4 purchases) in the UK:\n",
    "testing5 = testing[(testing['user_past_purchases']<4) & (testing['user_country'] == 2)]\n",
    "# Create a dataframe for returning customers (more than 4 purchases) in the UK:\n",
    "testing6 = testing[(testing['user_past_purchases']>4) & (testing['user_country'] == 2)]\n",
    "# Create a dataframe for recent customers (fewer than 4 purchases) in the US:\n",
    "testing7 = testing[(testing['user_past_purchases']<4) & (testing['user_country'] == 3)]\n",
    "# Create a dataframe for returning customers (more than 4 purchases) in the US:\n",
    "testing8 = testing[(testing['user_past_purchases']>4) & (testing['user_country'] == 3)]"
   ]
  },
  {
   "cell_type": "code",
   "execution_count": null,
   "metadata": {},
   "outputs": [],
   "source": [
    "# Define a function that would return the best hour, weekday, email_text, and email_version to maximize \n",
    "# click through rate at different customer segments:\n",
    "def optimal(data):\n",
    "    # In the worst case, no one clicks on the link:\n",
    "    if data.predictions.nunique() == 1:\n",
    "        print('No recipient clickes links included in emails')\n",
    "    else:\n",
    "        print('The optimal day to send emails is:', data.groupby(['weekday'])['predictions'].mean().idxmax()) \n",
    "        print('The optimal hour to send emails is:', data.groupby(['hour'])['predictions'].mean().idxmax()) \n",
    "        print('The optimal email_text is:', data.groupby(['email_text'])['predictions'].mean().idxmax())\n",
    "        print('The optimal email_version is:', data.groupby(['email_version'])['predictions'].mean().idxmax())"
   ]
  },
  {
   "cell_type": "code",
   "execution_count": null,
   "metadata": {},
   "outputs": [],
   "source": [
    "# The company is doing very poorly in Spain:\n",
    "optimal(testing1)"
   ]
  },
  {
   "cell_type": "code",
   "execution_count": null,
   "metadata": {},
   "outputs": [],
   "source": [
    "optimal(testing2)"
   ]
  },
  {
   "cell_type": "code",
   "execution_count": 32,
   "metadata": {},
   "outputs": [
    {
     "name": "stdout",
     "output_type": "stream",
     "text": [
      "The optimal day to send emails is: 3\n",
      "The optimal hour to send emails is: 15\n",
      "The optimal email_text is: 1\n",
      "The optimal email_version is: 1\n"
     ]
    }
   ],
   "source": [
    "# Best time and email details to send to recent customers in France:\n",
    "optimal(testing3)"
   ]
  },
  {
   "cell_type": "code",
   "execution_count": 33,
   "metadata": {},
   "outputs": [
    {
     "name": "stdout",
     "output_type": "stream",
     "text": [
      "The optimal day to send emails is: 3\n",
      "The optimal hour to send emails is: 10\n",
      "The optimal email_text is: 1\n",
      "The optimal email_version is: 1\n"
     ]
    }
   ],
   "source": [
    "# Best time and email details to send to returning customers in France:\n",
    "optimal(testing4)"
   ]
  },
  {
   "cell_type": "code",
   "execution_count": 34,
   "metadata": {},
   "outputs": [
    {
     "name": "stdout",
     "output_type": "stream",
     "text": [
      "The optimal day to send emails is: 5\n",
      "The optimal hour to send emails is: 10\n",
      "The optimal email_text is: 1\n",
      "The optimal email_version is: 1\n"
     ]
    }
   ],
   "source": [
    "# Best time and email details to send to recent customers in the UK:\n",
    "optimal(testing5)"
   ]
  },
  {
   "cell_type": "code",
   "execution_count": 35,
   "metadata": {},
   "outputs": [
    {
     "name": "stdout",
     "output_type": "stream",
     "text": [
      "The optimal day to send emails is: 3\n",
      "The optimal hour to send emails is: 21\n",
      "The optimal email_text is: 1\n",
      "The optimal email_version is: 1\n"
     ]
    }
   ],
   "source": [
    "# Best time and email details to send to returning customers in the UK:\n",
    "optimal(testing6)"
   ]
  },
  {
   "cell_type": "code",
   "execution_count": 36,
   "metadata": {},
   "outputs": [
    {
     "name": "stdout",
     "output_type": "stream",
     "text": [
      "The optimal day to send emails is: 1\n",
      "The optimal hour to send emails is: 10\n",
      "The optimal email_text is: 1\n",
      "The optimal email_version is: 1\n"
     ]
    }
   ],
   "source": [
    "# Best time and email details to send to recent customers in the US:\n",
    "optimal(testing7)"
   ]
  },
  {
   "cell_type": "code",
   "execution_count": 37,
   "metadata": {},
   "outputs": [
    {
     "name": "stdout",
     "output_type": "stream",
     "text": [
      "The optimal day to send emails is: 2\n",
      "The optimal hour to send emails is: 21\n",
      "The optimal email_text is: 1\n",
      "The optimal email_version is: 1\n"
     ]
    }
   ],
   "source": [
    "# Best time and email details to send to returning customers in the US:\n",
    "optimal(testing8)"
   ]
  },
  {
   "cell_type": "markdown",
   "metadata": {},
   "source": [
    "# 4. Product Recommendations:"
   ]
  },
  {
   "cell_type": "markdown",
   "metadata": {},
   "source": [
    "1. The campaign is doing fine with US and UK markets. However, we need to figure out why we are doing so poorly in ES and FR, particularly Spain. Click rate in these two countries are disproportionately lower than that in US and UK. Maybe the email and link contents haven't adapted to the customer behaviors there.\n",
    "\n",
    "2. Click rate varies by time and countries. Schedule automatic email sender to send emails to different countries at particular click rate peak time.\n",
    "\n",
    "3. Opened rate is much higher than clicked rate. This might mean people do care about the content of email, however, something wrong (too long, generic, and even boring) discourages them from clicking provided links. Therefore, we should: \n",
    "\n",
    "    3.1 Send more short and personalized emails.\n",
    "    \n",
    "    3.2 Because most link clicked during office our on weekdays, tailor the email content to make it more appealing to working people during this time frame.\n",
    "    \n",
    "4. To check if the campaigns optimizing our model results really increases click rate by approximately 20%, we do an A/B test between two groups at the same time: a group receives long and generic emails during weekend, another recieves short and personal emails during office hours. Then, we check the click rate difference between these two groups. "
   ]
  },
  {
   "cell_type": "code",
   "execution_count": null,
   "metadata": {},
   "outputs": [],
   "source": []
  }
 ],
 "metadata": {
  "kernelspec": {
   "display_name": "Python 3",
   "language": "python",
   "name": "python3"
  },
  "language_info": {
   "codemirror_mode": {
    "name": "ipython",
    "version": 3
   },
   "file_extension": ".py",
   "mimetype": "text/x-python",
   "name": "python",
   "nbconvert_exporter": "python",
   "pygments_lexer": "ipython3",
   "version": "3.6.5"
  }
 },
 "nbformat": 4,
 "nbformat_minor": 2
}
