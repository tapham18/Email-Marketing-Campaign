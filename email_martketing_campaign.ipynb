{
 "cells": [
  {
   "cell_type": "code",
   "execution_count": 485,
   "metadata": {},
   "outputs": [],
   "source": [
    "# Import necessary modules:\n",
    "import numpy as np\n",
    "import pandas as pd\n",
    "\n",
    "from sklearn.preprocessing import LabelEncoder\n",
    "from sklearn.model_selection import StratifiedShuffleSplit\n",
    "\n",
    "from sklearn.linear_model import LogisticRegression\n",
    "from sklearn import tree\n",
    "from sklearn.tree import DecisionTreeClassifier\n",
    "from sklearn.ensemble import RandomForestClassifier\n",
    "\n",
    "from sklearn.metrics import confusion_matrix, r2_score\n",
    "import scikitplot as skplt\n",
    "import matplotlib.pyplot as plt\n",
    "import seaborn as sns"
   ]
  },
  {
   "cell_type": "markdown",
   "metadata": {},
   "source": [
    "# 1. Exploratory Data Anlysis:"
   ]
  },
  {
   "cell_type": "code",
   "execution_count": 460,
   "metadata": {},
   "outputs": [],
   "source": [
    "# Read three datasets. Rename email_id columns in email_opened_table and link_clicked_table to make it easier\n",
    "# for an outer merge later:\n",
    "email_1 = pd.read_csv('email_table.csv')\n",
    "email_2 = pd.read_csv('email_opened_table.csv').rename(columns={'email_id':'opened'})\n",
    "email_3 = pd.read_csv('link_clicked_table.csv').rename(columns={'email_id':'clicked'})"
   ]
  },
  {
   "cell_type": "code",
   "execution_count": 461,
   "metadata": {},
   "outputs": [],
   "source": [
    "# Merge email_2 and email_3 with email_1, which includes all metadata necessary for modeling: \n",
    "email = email_1.merge(email_2, left_on='email_id', right_on='opened', how='outer')\n",
    "emails = email.merge(email_3, left_on='email_id', right_on='clicked', how='outer')"
   ]
  },
  {
   "cell_type": "code",
   "execution_count": 462,
   "metadata": {},
   "outputs": [],
   "source": [
    "# Transform email_id and NaN values in opened and clicked to 0 (NaN) and 1 for any other non-null values. \n",
    "# NaN means the email has not beened opened or the linked not clicked. 1 means vice versa:\n",
    "emails['opened'] = emails['opened'].apply(lambda x: 1 if not pd.isnull(x) else 0)\n",
    "emails['clicked'] = emails['clicked'].apply(lambda x: 1 if not pd.isnull(x) else 0)"
   ]
  },
  {
   "cell_type": "code",
   "execution_count": 463,
   "metadata": {},
   "outputs": [],
   "source": [
    "# Remove email_id as it's not necessary for the analysis (in this project):\n",
    "emails = emails.drop(['email_id'], axis=1)"
   ]
  },
  {
   "cell_type": "code",
   "execution_count": 464,
   "metadata": {},
   "outputs": [
    {
     "data": {
      "text/html": [
       "<div>\n",
       "<style scoped>\n",
       "    .dataframe tbody tr th:only-of-type {\n",
       "        vertical-align: middle;\n",
       "    }\n",
       "\n",
       "    .dataframe tbody tr th {\n",
       "        vertical-align: top;\n",
       "    }\n",
       "\n",
       "    .dataframe thead th {\n",
       "        text-align: right;\n",
       "    }\n",
       "</style>\n",
       "<table border=\"1\" class=\"dataframe\">\n",
       "  <thead>\n",
       "    <tr style=\"text-align: right;\">\n",
       "      <th></th>\n",
       "      <th>email_text</th>\n",
       "      <th>email_version</th>\n",
       "      <th>hour</th>\n",
       "      <th>weekday</th>\n",
       "      <th>user_country</th>\n",
       "      <th>user_past_purchases</th>\n",
       "      <th>opened</th>\n",
       "      <th>clicked</th>\n",
       "    </tr>\n",
       "  </thead>\n",
       "  <tbody>\n",
       "    <tr>\n",
       "      <th>0</th>\n",
       "      <td>short_email</td>\n",
       "      <td>personalized</td>\n",
       "      <td>2</td>\n",
       "      <td>Sunday</td>\n",
       "      <td>US</td>\n",
       "      <td>5</td>\n",
       "      <td>0</td>\n",
       "      <td>0</td>\n",
       "    </tr>\n",
       "    <tr>\n",
       "      <th>1</th>\n",
       "      <td>long_email</td>\n",
       "      <td>personalized</td>\n",
       "      <td>12</td>\n",
       "      <td>Sunday</td>\n",
       "      <td>UK</td>\n",
       "      <td>2</td>\n",
       "      <td>1</td>\n",
       "      <td>1</td>\n",
       "    </tr>\n",
       "    <tr>\n",
       "      <th>2</th>\n",
       "      <td>long_email</td>\n",
       "      <td>personalized</td>\n",
       "      <td>11</td>\n",
       "      <td>Wednesday</td>\n",
       "      <td>US</td>\n",
       "      <td>2</td>\n",
       "      <td>0</td>\n",
       "      <td>0</td>\n",
       "    </tr>\n",
       "    <tr>\n",
       "      <th>3</th>\n",
       "      <td>short_email</td>\n",
       "      <td>generic</td>\n",
       "      <td>6</td>\n",
       "      <td>Monday</td>\n",
       "      <td>UK</td>\n",
       "      <td>1</td>\n",
       "      <td>0</td>\n",
       "      <td>0</td>\n",
       "    </tr>\n",
       "    <tr>\n",
       "      <th>4</th>\n",
       "      <td>long_email</td>\n",
       "      <td>generic</td>\n",
       "      <td>14</td>\n",
       "      <td>Monday</td>\n",
       "      <td>US</td>\n",
       "      <td>6</td>\n",
       "      <td>0</td>\n",
       "      <td>0</td>\n",
       "    </tr>\n",
       "  </tbody>\n",
       "</table>\n",
       "</div>"
      ],
      "text/plain": [
       "    email_text email_version  hour    weekday user_country  \\\n",
       "0  short_email  personalized     2     Sunday           US   \n",
       "1   long_email  personalized    12     Sunday           UK   \n",
       "2   long_email  personalized    11  Wednesday           US   \n",
       "3  short_email       generic     6     Monday           UK   \n",
       "4   long_email       generic    14     Monday           US   \n",
       "\n",
       "   user_past_purchases  opened  clicked  \n",
       "0                    5       0        0  \n",
       "1                    2       1        1  \n",
       "2                    2       0        0  \n",
       "3                    1       0        0  \n",
       "4                    6       0        0  "
      ]
     },
     "execution_count": 464,
     "metadata": {},
     "output_type": "execute_result"
    }
   ],
   "source": [
    "# Take a look at the dataset after merging and some preprocessing: \n",
    "emails.head()"
   ]
  },
  {
   "cell_type": "code",
   "execution_count": 465,
   "metadata": {},
   "outputs": [],
   "source": [
    "# Get a copy of the dataset for later patterns exploration:\n",
    "emails_1 = emails.copy()"
   ]
  },
  {
   "cell_type": "code",
   "execution_count": 466,
   "metadata": {},
   "outputs": [
    {
     "data": {
      "text/html": [
       "<div>\n",
       "<style scoped>\n",
       "    .dataframe tbody tr th:only-of-type {\n",
       "        vertical-align: middle;\n",
       "    }\n",
       "\n",
       "    .dataframe tbody tr th {\n",
       "        vertical-align: top;\n",
       "    }\n",
       "\n",
       "    .dataframe thead th {\n",
       "        text-align: right;\n",
       "    }\n",
       "</style>\n",
       "<table border=\"1\" class=\"dataframe\">\n",
       "  <thead>\n",
       "    <tr style=\"text-align: right;\">\n",
       "      <th></th>\n",
       "      <th>hour</th>\n",
       "      <th>user_past_purchases</th>\n",
       "      <th>opened</th>\n",
       "      <th>clicked</th>\n",
       "    </tr>\n",
       "  </thead>\n",
       "  <tbody>\n",
       "    <tr>\n",
       "      <th>count</th>\n",
       "      <td>100000.000000</td>\n",
       "      <td>100000.00000</td>\n",
       "      <td>100000.000000</td>\n",
       "      <td>100000.000000</td>\n",
       "    </tr>\n",
       "    <tr>\n",
       "      <th>mean</th>\n",
       "      <td>9.059300</td>\n",
       "      <td>3.87845</td>\n",
       "      <td>0.103450</td>\n",
       "      <td>0.021190</td>\n",
       "    </tr>\n",
       "    <tr>\n",
       "      <th>std</th>\n",
       "      <td>4.439637</td>\n",
       "      <td>3.19611</td>\n",
       "      <td>0.304547</td>\n",
       "      <td>0.144018</td>\n",
       "    </tr>\n",
       "    <tr>\n",
       "      <th>min</th>\n",
       "      <td>1.000000</td>\n",
       "      <td>0.00000</td>\n",
       "      <td>0.000000</td>\n",
       "      <td>0.000000</td>\n",
       "    </tr>\n",
       "    <tr>\n",
       "      <th>25%</th>\n",
       "      <td>6.000000</td>\n",
       "      <td>1.00000</td>\n",
       "      <td>0.000000</td>\n",
       "      <td>0.000000</td>\n",
       "    </tr>\n",
       "    <tr>\n",
       "      <th>50%</th>\n",
       "      <td>9.000000</td>\n",
       "      <td>3.00000</td>\n",
       "      <td>0.000000</td>\n",
       "      <td>0.000000</td>\n",
       "    </tr>\n",
       "    <tr>\n",
       "      <th>75%</th>\n",
       "      <td>12.000000</td>\n",
       "      <td>6.00000</td>\n",
       "      <td>0.000000</td>\n",
       "      <td>0.000000</td>\n",
       "    </tr>\n",
       "    <tr>\n",
       "      <th>max</th>\n",
       "      <td>24.000000</td>\n",
       "      <td>22.00000</td>\n",
       "      <td>1.000000</td>\n",
       "      <td>1.000000</td>\n",
       "    </tr>\n",
       "  </tbody>\n",
       "</table>\n",
       "</div>"
      ],
      "text/plain": [
       "                hour  user_past_purchases         opened        clicked\n",
       "count  100000.000000         100000.00000  100000.000000  100000.000000\n",
       "mean        9.059300              3.87845       0.103450       0.021190\n",
       "std         4.439637              3.19611       0.304547       0.144018\n",
       "min         1.000000              0.00000       0.000000       0.000000\n",
       "25%         6.000000              1.00000       0.000000       0.000000\n",
       "50%         9.000000              3.00000       0.000000       0.000000\n",
       "75%        12.000000              6.00000       0.000000       0.000000\n",
       "max        24.000000             22.00000       1.000000       1.000000"
      ]
     },
     "execution_count": 466,
     "metadata": {},
     "output_type": "execute_result"
    }
   ],
   "source": [
    "# Describe the dataset to check if there's no nonsense, especially for hour and user purchases.\n",
    "# Hour ranges from 1 to 24. This makes sense, so it's unnecessary to change or remove any row. User past purchases\n",
    "# also range from 0 to 22, which seems fine for now:\n",
    "emails.describe()"
   ]
  },
  {
   "cell_type": "markdown",
   "metadata": {},
   "source": [
    "Every time an email is opened or a link clicked, opened and clicked columns sum would accumulate by 1.\n",
    "Hence, there is about 10.35 percent of total emails sent get opened. Approximately, 2.12 percent of total \n",
    "emails sent get opened and the linked inside clicked.\n",
    "\n",
    "=> These low percentages of opened emails and clicked links suggest a servere class imbalance that we have to deal with later."
   ]
  },
  {
   "cell_type": "code",
   "execution_count": 467,
   "metadata": {},
   "outputs": [
    {
     "name": "stdout",
     "output_type": "stream",
     "text": [
      "<class 'pandas.core.frame.DataFrame'>\n",
      "Int64Index: 100000 entries, 0 to 99999\n",
      "Data columns (total 8 columns):\n",
      "email_text             100000 non-null object\n",
      "email_version          100000 non-null object\n",
      "hour                   100000 non-null int64\n",
      "weekday                100000 non-null object\n",
      "user_country           100000 non-null object\n",
      "user_past_purchases    100000 non-null int64\n",
      "opened                 100000 non-null int64\n",
      "clicked                100000 non-null int64\n",
      "dtypes: int64(4), object(4)\n",
      "memory usage: 6.9+ MB\n"
     ]
    }
   ],
   "source": [
    "# Check if there is any missing observations: \n",
    "emails.info()"
   ]
  },
  {
   "cell_type": "code",
   "execution_count": 468,
   "metadata": {},
   "outputs": [
    {
     "data": {
      "text/html": [
       "<div>\n",
       "<style scoped>\n",
       "    .dataframe tbody tr th:only-of-type {\n",
       "        vertical-align: middle;\n",
       "    }\n",
       "\n",
       "    .dataframe tbody tr th {\n",
       "        vertical-align: top;\n",
       "    }\n",
       "\n",
       "    .dataframe thead th {\n",
       "        text-align: right;\n",
       "    }\n",
       "</style>\n",
       "<table border=\"1\" class=\"dataframe\">\n",
       "  <thead>\n",
       "    <tr style=\"text-align: right;\">\n",
       "      <th></th>\n",
       "      <th>email_text</th>\n",
       "      <th>email_version</th>\n",
       "      <th>hour</th>\n",
       "      <th>weekday</th>\n",
       "      <th>user_past_purchases</th>\n",
       "      <th>opened</th>\n",
       "      <th>clicked</th>\n",
       "    </tr>\n",
       "    <tr>\n",
       "      <th>user_country</th>\n",
       "      <th></th>\n",
       "      <th></th>\n",
       "      <th></th>\n",
       "      <th></th>\n",
       "      <th></th>\n",
       "      <th></th>\n",
       "      <th></th>\n",
       "    </tr>\n",
       "  </thead>\n",
       "  <tbody>\n",
       "    <tr>\n",
       "      <th>ES</th>\n",
       "      <td>9967</td>\n",
       "      <td>9967</td>\n",
       "      <td>9967</td>\n",
       "      <td>9967</td>\n",
       "      <td>9967</td>\n",
       "      <td>9967</td>\n",
       "      <td>9967</td>\n",
       "    </tr>\n",
       "    <tr>\n",
       "      <th>FR</th>\n",
       "      <td>9995</td>\n",
       "      <td>9995</td>\n",
       "      <td>9995</td>\n",
       "      <td>9995</td>\n",
       "      <td>9995</td>\n",
       "      <td>9995</td>\n",
       "      <td>9995</td>\n",
       "    </tr>\n",
       "    <tr>\n",
       "      <th>UK</th>\n",
       "      <td>19939</td>\n",
       "      <td>19939</td>\n",
       "      <td>19939</td>\n",
       "      <td>19939</td>\n",
       "      <td>19939</td>\n",
       "      <td>19939</td>\n",
       "      <td>19939</td>\n",
       "    </tr>\n",
       "    <tr>\n",
       "      <th>US</th>\n",
       "      <td>60099</td>\n",
       "      <td>60099</td>\n",
       "      <td>60099</td>\n",
       "      <td>60099</td>\n",
       "      <td>60099</td>\n",
       "      <td>60099</td>\n",
       "      <td>60099</td>\n",
       "    </tr>\n",
       "  </tbody>\n",
       "</table>\n",
       "</div>"
      ],
      "text/plain": [
       "              email_text  email_version   hour  weekday  user_past_purchases  \\\n",
       "user_country                                                                   \n",
       "ES                  9967           9967   9967     9967                 9967   \n",
       "FR                  9995           9995   9995     9995                 9995   \n",
       "UK                 19939          19939  19939    19939                19939   \n",
       "US                 60099          60099  60099    60099                60099   \n",
       "\n",
       "              opened  clicked  \n",
       "user_country                   \n",
       "ES              9967     9967  \n",
       "FR              9995     9995  \n",
       "UK             19939    19939  \n",
       "US             60099    60099  "
      ]
     },
     "execution_count": 468,
     "metadata": {},
     "output_type": "execute_result"
    }
   ],
   "source": [
    "# Check if the number of emails sent to different countries are the same:\n",
    "emails.groupby('user_country').count()"
   ]
  },
  {
   "cell_type": "code",
   "execution_count": 469,
   "metadata": {},
   "outputs": [
    {
     "data": {
      "text/plain": [
       "Text(0.5,1,'Click Rate by Hour')"
      ]
     },
     "execution_count": 469,
     "metadata": {},
     "output_type": "execute_result"
    },
    {
     "data": {
      "image/png": "[encoded data removed]",
      "text/plain": [
       "<Figure size 1080x720 with 6 Axes>"
      ]
     },
     "metadata": {},
     "output_type": "display_data"
    }
   ],
   "source": [
    "# Visualize the relationship of each feature with the target \n",
    "#(percentage of emails opened and the link inside clicked):\n",
    "\n",
    "# Percentage of click counts by long and short email text.\n",
    "# Use mean method because the number of emails sent to different customer segments are different \n",
    "# (Total count would be biased then.)\n",
    "text = emails.groupby('email_text')['clicked'].mean() \n",
    "version = emails.groupby('email_version')['clicked'].mean()\n",
    "country = emails.groupby('user_country')['clicked'].mean()\n",
    "purchases = emails.groupby('user_past_purchases')['clicked'].mean()\n",
    "weekday_1 = pd.DataFrame(emails.groupby('weekday')['clicked'].mean()).sort_values(by=['clicked'])\n",
    "weekday = weekday_1['clicked']\n",
    "hour = emails.groupby('hour')['clicked'].mean()\n",
    "\n",
    "plt.figure(figsize=(15,10))\n",
    "\n",
    "plt.subplot(3,2,1)\n",
    "plt.plot(text, color='red', marker='o', linestyle='dashed',\n",
    "        linewidth=2, markersize=6)\n",
    "plt.title('Click Rate by Email Text')\n",
    "\n",
    "plt.subplot(3,2,2)\n",
    "plt.plot(version, color='red', marker='o', linestyle='dashed',\n",
    "        linewidth=1, markersize=6)\n",
    "plt.title('Click Rate by Email Version')\n",
    "\n",
    "plt.subplot(3,2,3)\n",
    "plt.plot(country, color='red', marker='o', linestyle='dashed',\n",
    "        linewidth=1, markersize=6)\n",
    "plt.title('Click Rate by Country')\n",
    "\n",
    "plt.subplot(3,2,4)\n",
    "plt.plot(purchases, color='red', marker='o', linestyle='dashed',\n",
    "        linewidth=1, markersize=6)\n",
    "plt.title('Click Rate by Past Purchases Count')\n",
    "\n",
    "plt.subplot(3,2,5)\n",
    "plt.plot(weekday_1, color='red', marker='o', linestyle='dashed',\n",
    "        linewidth=1, markersize=6)\n",
    "plt.title('Click Rate by Weekday')\n",
    "\n",
    "plt.subplot(3,2,6)\n",
    "plt.plot(hour, color='red', marker='o', linestyle='dashed',\n",
    "        linewidth=1, markersize=6)\n",
    "plt.title('Click Rate by Hour')"
   ]
  },
  {
   "cell_type": "markdown",
   "metadata": {},
   "source": [
    "1. More short emails get opened and the link inside clicked. This is understandable. Most people don't have too much time reading advertising emails. Hence, it's faster and more tempting to get to the link in a short one. \n",
    "2. Personalized emails get opened and the link inside clicked much more often. \n",
    "3. The company mainly focuses on US and UK markets. Most emails are sent to customers in these countries.\n",
    "ES and FR markets are doing very poorly in terms of click rate.\n",
    "4. Though the number of emails sent to US customers tops the list among four countries (approximately three times the number of emails sent to UK customers). However, the UK customers seem more active with the highest click rate.\n",
    "5. New customers don't often open and click the link inside their emails. Returners, especially those with more than 5 past purchases are more likely to click the link.\n",
    "6. There are several outliners in click rate by past purchases counts. Customers with more than about 22 past purchases always open the link inside their email. This takes further investigation.\n",
    "7. Customers are more likely to open link inside their emails during weekdays. Friday bottoms the list of click rate by weekday. This is understandatble. \n",
    "8. The click rate is highest from 10-16 everyday. Combined with the previous insihgt, it seems that most customers check advertising emails and open ad links at work. This can be a valuable insight for the content creation and marketing teams. \n",
    "9. There are also outliners when it comes to click rate by hour. At 11PM, the click rate is much higher than earlier in the day. This needs further investigation."
   ]
  },
  {
   "cell_type": "code",
   "execution_count": 470,
   "metadata": {},
   "outputs": [
    {
     "data": {
      "text/html": [
       "<div>\n",
       "<style scoped>\n",
       "    .dataframe tbody tr th:only-of-type {\n",
       "        vertical-align: middle;\n",
       "    }\n",
       "\n",
       "    .dataframe tbody tr th {\n",
       "        vertical-align: top;\n",
       "    }\n",
       "\n",
       "    .dataframe thead th {\n",
       "        text-align: right;\n",
       "    }\n",
       "</style>\n",
       "<table border=\"1\" class=\"dataframe\">\n",
       "  <thead>\n",
       "    <tr style=\"text-align: right;\">\n",
       "      <th></th>\n",
       "      <th>email_text</th>\n",
       "      <th>email_version</th>\n",
       "      <th>hour</th>\n",
       "      <th>weekday</th>\n",
       "      <th>user_country</th>\n",
       "      <th>user_past_purchases</th>\n",
       "      <th>opened</th>\n",
       "      <th>clicked</th>\n",
       "    </tr>\n",
       "  </thead>\n",
       "  <tbody>\n",
       "    <tr>\n",
       "      <th>5123</th>\n",
       "      <td>long_email</td>\n",
       "      <td>personalized</td>\n",
       "      <td>16</td>\n",
       "      <td>Monday</td>\n",
       "      <td>US</td>\n",
       "      <td>22</td>\n",
       "      <td>1</td>\n",
       "      <td>1</td>\n",
       "    </tr>\n",
       "    <tr>\n",
       "      <th>10366</th>\n",
       "      <td>long_email</td>\n",
       "      <td>generic</td>\n",
       "      <td>12</td>\n",
       "      <td>Monday</td>\n",
       "      <td>US</td>\n",
       "      <td>21</td>\n",
       "      <td>0</td>\n",
       "      <td>0</td>\n",
       "    </tr>\n",
       "    <tr>\n",
       "      <th>13885</th>\n",
       "      <td>long_email</td>\n",
       "      <td>generic</td>\n",
       "      <td>14</td>\n",
       "      <td>Tuesday</td>\n",
       "      <td>FR</td>\n",
       "      <td>21</td>\n",
       "      <td>1</td>\n",
       "      <td>1</td>\n",
       "    </tr>\n",
       "    <tr>\n",
       "      <th>24535</th>\n",
       "      <td>short_email</td>\n",
       "      <td>personalized</td>\n",
       "      <td>9</td>\n",
       "      <td>Tuesday</td>\n",
       "      <td>UK</td>\n",
       "      <td>21</td>\n",
       "      <td>0</td>\n",
       "      <td>0</td>\n",
       "    </tr>\n",
       "    <tr>\n",
       "      <th>32881</th>\n",
       "      <td>short_email</td>\n",
       "      <td>generic</td>\n",
       "      <td>7</td>\n",
       "      <td>Wednesday</td>\n",
       "      <td>UK</td>\n",
       "      <td>21</td>\n",
       "      <td>1</td>\n",
       "      <td>1</td>\n",
       "    </tr>\n",
       "  </tbody>\n",
       "</table>\n",
       "</div>"
      ],
      "text/plain": [
       "        email_text email_version  hour    weekday user_country  \\\n",
       "5123    long_email  personalized    16     Monday           US   \n",
       "10366   long_email       generic    12     Monday           US   \n",
       "13885   long_email       generic    14    Tuesday           FR   \n",
       "24535  short_email  personalized     9    Tuesday           UK   \n",
       "32881  short_email       generic     7  Wednesday           UK   \n",
       "\n",
       "       user_past_purchases  opened  clicked  \n",
       "5123                    22       1        1  \n",
       "10366                   21       0        0  \n",
       "13885                   21       1        1  \n",
       "24535                   21       0        0  \n",
       "32881                   21       1        1  "
      ]
     },
     "execution_count": 470,
     "metadata": {},
     "output_type": "execute_result"
    }
   ],
   "source": [
    "# Take a look at returners with higher than 20 past purchases:\n",
    "emails[emails['user_past_purchases'] > 20]"
   ]
  },
  {
   "cell_type": "markdown",
   "metadata": {},
   "source": [
    "They have much higher click rate than the overall rate but the group is only of 5. "
   ]
  },
  {
   "cell_type": "code",
   "execution_count": 471,
   "metadata": {},
   "outputs": [
    {
     "name": "stdout",
     "output_type": "stream",
     "text": [
      "0.041379310344827586\n",
      "145\n"
     ]
    }
   ],
   "source": [
    "# Take a look at customers clicking provided link very late:\n",
    "print(emails[emails['hour'] == 23]['clicked'].mean())\n",
    "print(emails[emails['hour'] == 23]['clicked'].count())"
   ]
  },
  {
   "cell_type": "markdown",
   "metadata": {},
   "source": [
    "Though the click rate at 23 is much higher than earlier hours in the day, there are only 145 customers have this behavior.\n",
    "So there is not really a pattern that we can exploit here."
   ]
  },
  {
   "cell_type": "code",
   "execution_count": 472,
   "metadata": {},
   "outputs": [
    {
     "data": {
      "image/png": "[encoded data removed]",
      "text/plain": [
       "<Figure size 576x288 with 2 Axes>"
      ]
     },
     "metadata": {},
     "output_type": "display_data"
    }
   ],
   "source": [
    "# Short email and personalized email separately increase click rate. Check the interaction between these\n",
    "# two features:\n",
    "fg = sns.factorplot(x='email_text', \n",
    "                    y='clicked',\n",
    "                    col='email_version', \n",
    "                    data=emails.groupby(['email_text', 'email_version'])['clicked'].mean().to_frame().reset_index(), \n",
    "                    kind='bar')"
   ]
  },
  {
   "cell_type": "markdown",
   "metadata": {},
   "source": [
    "Personalized short emails are those with highest click rate. It might be helpful to create an interaction feature of these two features."
   ]
  },
  {
   "cell_type": "markdown",
   "metadata": {},
   "source": [
    "# 2. Prepare Data for Analysis"
   ]
  },
  {
   "cell_type": "code",
   "execution_count": 473,
   "metadata": {},
   "outputs": [],
   "source": [
    "# I will use random forest and decision tree models later. Hence, it's suitable to label encode \n",
    "# several features in the dataset:\n",
    "lb = LabelEncoder()\n",
    "emails['email_text'] = lb.fit_transform(emails['email_text'])\n",
    "emails['email_version'] = lb.fit_transform(emails['email_version'])\n",
    "\n",
    "# Because weekdays click rate is higher than weekend. I would create a dummy variable for weekday:\n",
    "emails['weekday'] = emails['weekday'].apply(lambda x: 1 if x in ['Monday', 'Tuesday', 'Wednesday', 'Thursday'] else 0)\n",
    "\n",
    "# Office hours yield higher click rate. I also create a dummy variable for hour to reduce effect of outliers:\n",
    "emails['hour'] = emails['hour'].apply(lambda x: 1 if x in range(4, 16, 1) else 0)\n",
    "\n",
    "# However, because ES and FR customers have approximatley similar click rate, which is much higher than US and UK\n",
    "#, I would group them into three groups. Then get dummies from the ordinal feature for further investigation\n",
    "# in these three markets:\n",
    "emails['user_country'] = emails['user_country'].apply(lambda x: 0 if x in ['ES', 'FR'] else x)\n",
    "emails = pd.get_dummies(emails, prefix=['user_country'])"
   ]
  },
  {
   "cell_type": "code",
   "execution_count": 474,
   "metadata": {},
   "outputs": [],
   "source": [
    "# Create the interaction feature of text_version and email_text\n",
    "emails['text_version'] = emails['email_text'] * emails['email_version']"
   ]
  },
  {
   "cell_type": "code",
   "execution_count": 475,
   "metadata": {},
   "outputs": [
    {
     "data": {
      "text/html": [
       "<div>\n",
       "<style scoped>\n",
       "    .dataframe tbody tr th:only-of-type {\n",
       "        vertical-align: middle;\n",
       "    }\n",
       "\n",
       "    .dataframe tbody tr th {\n",
       "        vertical-align: top;\n",
       "    }\n",
       "\n",
       "    .dataframe thead th {\n",
       "        text-align: right;\n",
       "    }\n",
       "</style>\n",
       "<table border=\"1\" class=\"dataframe\">\n",
       "  <thead>\n",
       "    <tr style=\"text-align: right;\">\n",
       "      <th></th>\n",
       "      <th>email_text</th>\n",
       "      <th>email_version</th>\n",
       "      <th>hour</th>\n",
       "      <th>weekday</th>\n",
       "      <th>user_past_purchases</th>\n",
       "      <th>opened</th>\n",
       "      <th>clicked</th>\n",
       "      <th>user_country_0</th>\n",
       "      <th>user_country_UK</th>\n",
       "      <th>user_country_US</th>\n",
       "      <th>text_version</th>\n",
       "    </tr>\n",
       "  </thead>\n",
       "  <tbody>\n",
       "    <tr>\n",
       "      <th>0</th>\n",
       "      <td>1</td>\n",
       "      <td>1</td>\n",
       "      <td>0</td>\n",
       "      <td>0</td>\n",
       "      <td>5</td>\n",
       "      <td>0</td>\n",
       "      <td>0</td>\n",
       "      <td>0</td>\n",
       "      <td>0</td>\n",
       "      <td>1</td>\n",
       "      <td>1</td>\n",
       "    </tr>\n",
       "    <tr>\n",
       "      <th>1</th>\n",
       "      <td>0</td>\n",
       "      <td>1</td>\n",
       "      <td>1</td>\n",
       "      <td>0</td>\n",
       "      <td>2</td>\n",
       "      <td>1</td>\n",
       "      <td>1</td>\n",
       "      <td>0</td>\n",
       "      <td>1</td>\n",
       "      <td>0</td>\n",
       "      <td>0</td>\n",
       "    </tr>\n",
       "    <tr>\n",
       "      <th>2</th>\n",
       "      <td>0</td>\n",
       "      <td>1</td>\n",
       "      <td>1</td>\n",
       "      <td>1</td>\n",
       "      <td>2</td>\n",
       "      <td>0</td>\n",
       "      <td>0</td>\n",
       "      <td>0</td>\n",
       "      <td>0</td>\n",
       "      <td>1</td>\n",
       "      <td>0</td>\n",
       "    </tr>\n",
       "    <tr>\n",
       "      <th>3</th>\n",
       "      <td>1</td>\n",
       "      <td>0</td>\n",
       "      <td>1</td>\n",
       "      <td>1</td>\n",
       "      <td>1</td>\n",
       "      <td>0</td>\n",
       "      <td>0</td>\n",
       "      <td>0</td>\n",
       "      <td>1</td>\n",
       "      <td>0</td>\n",
       "      <td>0</td>\n",
       "    </tr>\n",
       "    <tr>\n",
       "      <th>4</th>\n",
       "      <td>0</td>\n",
       "      <td>0</td>\n",
       "      <td>1</td>\n",
       "      <td>1</td>\n",
       "      <td>6</td>\n",
       "      <td>0</td>\n",
       "      <td>0</td>\n",
       "      <td>0</td>\n",
       "      <td>0</td>\n",
       "      <td>1</td>\n",
       "      <td>0</td>\n",
       "    </tr>\n",
       "  </tbody>\n",
       "</table>\n",
       "</div>"
      ],
      "text/plain": [
       "   email_text  email_version  hour  weekday  user_past_purchases  opened  \\\n",
       "0           1              1     0        0                    5       0   \n",
       "1           0              1     1        0                    2       1   \n",
       "2           0              1     1        1                    2       0   \n",
       "3           1              0     1        1                    1       0   \n",
       "4           0              0     1        1                    6       0   \n",
       "\n",
       "   clicked  user_country_0  user_country_UK  user_country_US  text_version  \n",
       "0        0               0                0                1             1  \n",
       "1        1               0                1                0             0  \n",
       "2        0               0                0                1             0  \n",
       "3        0               0                1                0             0  \n",
       "4        0               0                0                1             0  "
      ]
     },
     "execution_count": 475,
     "metadata": {},
     "output_type": "execute_result"
    }
   ],
   "source": [
    "# Take a look at the dataset now:\n",
    "emails.head(5)"
   ]
  },
  {
   "cell_type": "code",
   "execution_count": 476,
   "metadata": {},
   "outputs": [
    {
     "data": {
      "text/plain": [
       "0    29364\n",
       "1      636\n",
       "Name: clicked, dtype: int64"
      ]
     },
     "execution_count": 476,
     "metadata": {},
     "output_type": "execute_result"
    }
   ],
   "source": [
    "# Create features and labels for classification models:\n",
    "X = emails.drop(['clicked', 'opened'], axis=1)\n",
    "y = emails[['clicked']]\n",
    "\n",
    "# Because 0(no click) and 1(clicked) classes are severely imbalanced. Use Stratefied Shuffle Split \n",
    "# to shuffle observations and preserve the percentage of classes similar to that in the original dataset.\n",
    "# This would obviate the situation when all and disproportionately many 1 class observations get divided \n",
    "# in either training or test set, which hinders the prediction of the important label.\n",
    "\n",
    "sss = StratifiedShuffleSplit(n_splits=2, test_size=0.3, random_state=0)\n",
    "sss.get_n_splits(X, y)\n",
    " \n",
    "for train_index, test_index in sss.split(X, y):\n",
    "    X_train, X_test = X.iloc[train_index], X.iloc[test_index]\n",
    "    y_train, y_test = y.iloc[train_index], y.iloc[test_index]\n",
    "\n",
    "# Check the ratio of two classes in test set:\n",
    "y_test['clicked'].value_counts()"
   ]
  },
  {
   "cell_type": "markdown",
   "metadata": {},
   "source": [
    "# 3. Modeling"
   ]
  },
  {
   "cell_type": "markdown",
   "metadata": {},
   "source": [
    "# Random Forest"
   ]
  },
  {
   "cell_type": "code",
   "execution_count": 477,
   "metadata": {},
   "outputs": [
    {
     "name": "stderr",
     "output_type": "stream",
     "text": [
      "/Users/tapham18/anaconda3/lib/python3.6/site-packages/ipykernel_launcher.py:4: DataConversionWarning: A column-vector y was passed when a 1d array was expected. Please change the shape of y to (n_samples,), for example using ravel().\n",
      "  after removing the cwd from sys.path.\n"
     ]
    }
   ],
   "source": [
    "# True Positive rate is the main concern of this problem. We want to predict who is going to open the link\n",
    "# provided in emails we send. Therefore, I increase the weight of class 1. \n",
    "rf = RandomForestClassifier(class_weight = {0:1, 1:60})\n",
    "rf.fit(X_train, y_train)\n",
    "y_pred = rf.predict(X_test)"
   ]
  },
  {
   "cell_type": "code",
   "execution_count": 478,
   "metadata": {},
   "outputs": [
    {
     "data": {
      "text/plain": [
       "Text(0,0.5,'Features')"
      ]
     },
     "execution_count": 478,
     "metadata": {},
     "output_type": "execute_result"
    },
    {
     "data": {
      "image/png": "[encoded data removed]",
      "text/plain": [
       "<Figure size 432x288 with 1 Axes>"
      ]
     },
     "metadata": {},
     "output_type": "display_data"
    }
   ],
   "source": [
    "# Plot the importances of different features in the model:\n",
    "y = rf.feature_importances_\n",
    "x = X.columns\n",
    "\n",
    "fig, ax = plt.subplots()    \n",
    "width = 0.75  \n",
    "ind = np.arange(len(y))  \n",
    "ax.barh(ind, y, width, color='orange')\n",
    "ax.set_yticks(ind+width/2)\n",
    "ax.set_yticklabels(x, minor=False)\n",
    "for i, v in enumerate(np.round(y, 2)):\n",
    "    ax.text(v, i, str(v), color='black')\n",
    "plt.xlabel('Mean Decrease Impurity')\n",
    "plt.ylabel('Features')"
   ]
  },
  {
   "cell_type": "markdown",
   "metadata": {},
   "source": [
    "User_past_purchases is the most important/informative feature in reducing the rest partition impurity. User_country_0 (ES and FR) and email_version rank seconds. Weekday and hour continues the list. Surprisingly, email text is not that informative."
   ]
  },
  {
   "cell_type": "code",
   "execution_count": 479,
   "metadata": {},
   "outputs": [
    {
     "data": {
      "text/plain": [
       "array([[17941, 11423],\n",
       "       [  213,   423]])"
      ]
     },
     "execution_count": 479,
     "metadata": {},
     "output_type": "execute_result"
    }
   ],
   "source": [
    "# Create an unnormalized confusion matrix:\n",
    "confusion_matrix(y_test, y_pred)"
   ]
  },
  {
   "cell_type": "code",
   "execution_count": 480,
   "metadata": {},
   "outputs": [
    {
     "name": "stderr",
     "output_type": "stream",
     "text": [
      "/Users/tapham18/anaconda3/lib/python3.6/site-packages/matplotlib/cbook/deprecation.py:107: MatplotlibDeprecationWarning: Passing one of 'on', 'true', 'off', 'false' as a boolean is deprecated; use an actual boolean (True/False) instead.\n",
      "  warnings.warn(message, mplDeprecation, stacklevel=1)\n"
     ]
    },
    {
     "data": {
      "text/plain": [
       "<matplotlib.axes._subplots.AxesSubplot at 0x1a28700208>"
      ]
     },
     "execution_count": 480,
     "metadata": {},
     "output_type": "execute_result"
    },
    {
     "data": {
      "image/png": "[encoded data removed]",
      "text/plain": [
       "<Figure size 432x288 with 2 Axes>"
      ]
     },
     "metadata": {},
     "output_type": "display_data"
    }
   ],
   "source": [
    "# Create a normalized confusion matrix:\n",
    "skplt.metrics.plot_confusion_matrix(y_test, y_pred, normalize=True)"
   ]
  },
  {
   "cell_type": "markdown",
   "metadata": {},
   "source": [
    "0: negative.\n",
    "1: positive.\n",
    "\n",
    "Here, we have to make a trade-off. To be able to predict 67% of class 1, which is what we care about, we need to accept a fairly low true negative score.\n",
    "Let's check if it's worth it to make the trade-off, given 67% is a decent number."
   ]
  },
  {
   "cell_type": "code",
   "execution_count": 481,
   "metadata": {},
   "outputs": [
    {
     "name": "stderr",
     "output_type": "stream",
     "text": [
      "/Users/tapham18/anaconda3/lib/python3.6/site-packages/matplotlib/cbook/deprecation.py:107: MatplotlibDeprecationWarning: Passing one of 'on', 'true', 'off', 'false' as a boolean is deprecated; use an actual boolean (True/False) instead.\n",
      "  warnings.warn(message, mplDeprecation, stacklevel=1)\n"
     ]
    },
    {
     "data": {
      "text/plain": [
       "<matplotlib.axes._subplots.AxesSubplot at 0x1a2e822ac8>"
      ]
     },
     "execution_count": 481,
     "metadata": {},
     "output_type": "execute_result"
    },
    {
     "data": {
      "image/png": "[encoded data removed]",
      "text/plain": [
       "<Figure size 432x288 with 1 Axes>"
      ]
     },
     "metadata": {},
     "output_type": "display_data"
    }
   ],
   "source": [
    "# Calculate proability score for each prediction. Plot the cumulative gain curves, which already sort scores\n",
    "# in descending order in each decile:\n",
    "y_probas = rf.predict_proba(X_test)\n",
    "skplt.metrics.plot_cumulative_gain(y_test, y_probas)"
   ]
  },
  {
   "cell_type": "markdown",
   "metadata": {},
   "source": [
    "What if we send short personalized emails to US-UK returners with more than 5 purchases from 10-15 Monday to Thursday? \n",
    "\n",
    "The cumulative gain of class 1 and baseline tells us by 60 percent of the number of emails sent out, we are already able to predict 80 percent of those who open and click the provided link in each email.\n",
    "That means 20 percent improvement compared to the campaign if we sent 100000 emails to all random customers."
   ]
  },
  {
   "cell_type": "markdown",
   "metadata": {},
   "source": [
    "# Decision Tree"
   ]
  },
  {
   "cell_type": "code",
   "execution_count": 482,
   "metadata": {},
   "outputs": [],
   "source": [
    "# Build a simple tree to double check the prediction. Pre-prune the tree by limiting max_depth \n",
    "# to avoid overfitting:\n",
    "dt = DecisionTreeClassifier(max_depth = 9, class_weight = {0:1,1:47})\n",
    "dt.fit(X_train, y_train)\n",
    "y_pred_2 = dt.predict(X_test)"
   ]
  },
  {
   "cell_type": "code",
   "execution_count": 483,
   "metadata": {},
   "outputs": [
    {
     "name": "stderr",
     "output_type": "stream",
     "text": [
      "/Users/tapham18/anaconda3/lib/python3.6/site-packages/matplotlib/cbook/deprecation.py:107: MatplotlibDeprecationWarning: Passing one of 'on', 'true', 'off', 'false' as a boolean is deprecated; use an actual boolean (True/False) instead.\n",
      "  warnings.warn(message, mplDeprecation, stacklevel=1)\n"
     ]
    },
    {
     "data": {
      "text/plain": [
       "<matplotlib.axes._subplots.AxesSubplot at 0x1a3887d208>"
      ]
     },
     "execution_count": 483,
     "metadata": {},
     "output_type": "execute_result"
    },
    {
     "data": {
      "image/png": "[encoded data removed]",
      "text/plain": [
       "<Figure size 432x288 with 2 Axes>"
      ]
     },
     "metadata": {},
     "output_type": "display_data"
    }
   ],
   "source": [
    "# Create a confustion matrix for the tree:\n",
    "skplt.metrics.plot_confusion_matrix(y_test, y_pred_2, normalize=True)"
   ]
  },
  {
   "cell_type": "markdown",
   "metadata": {},
   "source": [
    "A simple decision tree even better than random forest in this case yielding 0.7 true positive and 0.6 true\n",
    "negative score."
   ]
  },
  {
   "cell_type": "code",
   "execution_count": 484,
   "metadata": {},
   "outputs": [],
   "source": [
    "# Print root and top nodes of the tree:\n",
    "tree.export_graphviz(dt, out_file='trees.dot', max_depth = 9, feature_names = X.columns) "
   ]
  },
  {
   "cell_type": "raw",
   "metadata": {},
   "source": [
    "0 [label=\"user_past_purchases <= 4.5\\ngini = 0.5\\nsamples = 70000\\nvalue = [68517, 69701]\"] ;\n",
    "1 [label=\"user_past_purchases <= 0.5\\ngini = 0.467\\nsamples = 44379\\nvalue = [43829, 25850]\"] ;\n",
    "0 -> 1 [labeldistance=2.5, labelangle=45, headlabel=\"True\"] ;\n",
    "2 [label=\"user_country_US <= 0.5\\ngini = 0.046\\nsamples = 9679\\nvalue = [9674, 235]\"] ;\n",
    "1 -> 2 ;\n",
    "3 [label=\"gini = 0.0\\nsamples = 3886\\nvalue = [3886, 0]\"] ;\n",
    "2 -> 3 ;\n",
    "4 [label=\"text_version <= 0.5\\ngini = 0.075\\nsamples = 5793\\nvalue = [5788, 235]\"] ;\n",
    "2 -> 4 ;\n",
    "5 [label=\"hour <= 0.5\\ngini = 0.041\\nsamples = 4379\\nvalue = [4377, 94]\"] ;\n",
    "4 -> 5 ;\n",
    "6 [label=\"email_text <= 0.5\\ngini = 0.099\\nsamples = 851\\nvalue = [850, 47]\"] ;\n",
    "5 -> 6 ;\n",
    "7 [label=\"gini = 0.0\\nsamples = 562\\nvalue = [562, 0]\"] ;\n",
    "6 -> 7 ;\n",
    "8 [label=\"weekday <= 0.5\\ngini = 0.241\\nsamples = 289\\nvalue = [288, 47]\"] ;\n",
    "6 -> 8 ;\n",
    "9 [label=\"gini = 0.397\\nsamples = 126\\nvalue = [125, 47]\"] ;\n",
    "8 -> 9 ;\n",
    "10 [label=\"gini = 0.0\\nsamples = 163\\nvalue = [163, 0]\"] ;\n",
    "8 -> 10 ;\n",
    "11 [label=\"weekday <= 0.5\\ngini = 0.026\\nsamples = 3528\\nvalue = [3527, 47]\"] ;\n",
    "5 -> 11 ;\n",
    "12 [label=\"gini = 0.0\\nsamples = 1503\\nvalue = [1503, 0]\"] ;\n",
    "11 -> 12 ;\n",
    "13 [label=\"email_version <= 0.5\\ngini = 0.044\\nsamples = 2025\\nvalue = [2024, 47]\"] ;"
   ]
  },
  {
   "cell_type": "markdown",
   "metadata": {},
   "source": [
    "1. A shallow tree confirms our prediction that user with more than 4.5 purchases would more likely to open emails and click provided links.\n",
    "2. Shorter and more personalized emails yield higher click rate.\n",
    "3. Emails sent during week days working hours have higher click rate than weekends."
   ]
  },
  {
   "cell_type": "markdown",
   "metadata": {},
   "source": [
    "# Patterns:"
   ]
  },
  {
   "cell_type": "code",
   "execution_count": 503,
   "metadata": {},
   "outputs": [
    {
     "data": {
      "text/html": [
       "<div>\n",
       "<style scoped>\n",
       "    .dataframe tbody tr th:only-of-type {\n",
       "        vertical-align: middle;\n",
       "    }\n",
       "\n",
       "    .dataframe tbody tr th {\n",
       "        vertical-align: top;\n",
       "    }\n",
       "\n",
       "    .dataframe thead th {\n",
       "        text-align: right;\n",
       "    }\n",
       "</style>\n",
       "<table border=\"1\" class=\"dataframe\">\n",
       "  <thead>\n",
       "    <tr style=\"text-align: right;\">\n",
       "      <th></th>\n",
       "      <th>email_text</th>\n",
       "      <th>email_version</th>\n",
       "      <th>hour</th>\n",
       "      <th>weekday</th>\n",
       "      <th>user_country</th>\n",
       "      <th>user_past_purchases</th>\n",
       "      <th>opened</th>\n",
       "      <th>clicked</th>\n",
       "    </tr>\n",
       "  </thead>\n",
       "  <tbody>\n",
       "    <tr>\n",
       "      <th>87456</th>\n",
       "      <td>long_email</td>\n",
       "      <td>personalized</td>\n",
       "      <td>1</td>\n",
       "      <td>Monday</td>\n",
       "      <td>FR</td>\n",
       "      <td>4</td>\n",
       "      <td>0</td>\n",
       "      <td>0</td>\n",
       "    </tr>\n",
       "    <tr>\n",
       "      <th>13534</th>\n",
       "      <td>short_email</td>\n",
       "      <td>generic</td>\n",
       "      <td>7</td>\n",
       "      <td>Monday</td>\n",
       "      <td>UK</td>\n",
       "      <td>1</td>\n",
       "      <td>0</td>\n",
       "      <td>0</td>\n",
       "    </tr>\n",
       "    <tr>\n",
       "      <th>88264</th>\n",
       "      <td>short_email</td>\n",
       "      <td>personalized</td>\n",
       "      <td>11</td>\n",
       "      <td>Monday</td>\n",
       "      <td>UK</td>\n",
       "      <td>6</td>\n",
       "      <td>0</td>\n",
       "      <td>0</td>\n",
       "    </tr>\n",
       "    <tr>\n",
       "      <th>88265</th>\n",
       "      <td>short_email</td>\n",
       "      <td>personalized</td>\n",
       "      <td>15</td>\n",
       "      <td>Monday</td>\n",
       "      <td>US</td>\n",
       "      <td>0</td>\n",
       "      <td>0</td>\n",
       "      <td>0</td>\n",
       "    </tr>\n",
       "    <tr>\n",
       "      <th>38837</th>\n",
       "      <td>short_email</td>\n",
       "      <td>generic</td>\n",
       "      <td>6</td>\n",
       "      <td>Monday</td>\n",
       "      <td>US</td>\n",
       "      <td>3</td>\n",
       "      <td>0</td>\n",
       "      <td>0</td>\n",
       "    </tr>\n",
       "  </tbody>\n",
       "</table>\n",
       "</div>"
      ],
      "text/plain": [
       "        email_text email_version  hour weekday user_country  \\\n",
       "87456   long_email  personalized     1  Monday           FR   \n",
       "13534  short_email       generic     7  Monday           UK   \n",
       "88264  short_email  personalized    11  Monday           UK   \n",
       "88265  short_email  personalized    15  Monday           US   \n",
       "38837  short_email       generic     6  Monday           US   \n",
       "\n",
       "       user_past_purchases  opened  clicked  \n",
       "87456                    4       0        0  \n",
       "13534                    1       0        0  \n",
       "88264                    6       0        0  \n",
       "88265                    0       0        0  \n",
       "38837                    3       0        0  "
      ]
     },
     "execution_count": 503,
     "metadata": {},
     "output_type": "execute_result"
    }
   ],
   "source": [
    "# To discover if there is any pattern left, I use a copy of emails: emails_1 dataset.\n",
    "# Sort weekday value in terms of time (Mon, Tue, ...)\n",
    "emails_1['weekday'] = pd.Categorical(emails_1['weekday'],\n",
    "                                   categories=['Monday', 'Tuesday', 'Wednesday', 'Thursday', 'Friday', 'Saturday', 'Sunday'], \n",
    "                                   ordered=True)\n",
    "emails_2 = emails_1.sort_values('weekday')\n",
    "emails_2.head()"
   ]
  },
  {
   "cell_type": "code",
   "execution_count": 493,
   "metadata": {},
   "outputs": [],
   "source": [
    "# Split emails_2 into three dataframes according to three country groups:\n",
    "us = emails_2[emails_2.user_country == 'US']\n",
    "uk = emails_2[emails_2.user_country == 'UK']\n",
    "eu = emails_2[emails_2['user_country'].isin(['ES', 'FR'])]"
   ]
  },
  {
   "cell_type": "code",
   "execution_count": 501,
   "metadata": {},
   "outputs": [],
   "source": [
    "# Groupby hour to see the click rate at different hours in three country groups:\n",
    "df = us.groupby('hour')['clicked'].mean().to_frame().reset_index()\n",
    "df = df.rename(columns = {'clicked':'US_clicked'})\n",
    "df_1 = uk.groupby('hour')['clicked'].mean().to_frame().reset_index()\n",
    "df_1 = df_1.rename(columns = {'clicked':'UK_clicked'})\n",
    "df_2 = eu.groupby('hour')['clicked'].mean().to_frame().reset_index()\n",
    "df_2 = df_2.rename(columns = {'clicked':'EU_clicked'})"
   ]
  },
  {
   "cell_type": "code",
   "execution_count": 502,
   "metadata": {},
   "outputs": [
    {
     "data": {
      "image/png": "[encoded data removed]",
      "text/plain": [
       "<Figure size 432x288 with 1 Axes>"
      ]
     },
     "metadata": {},
     "output_type": "display_data"
    }
   ],
   "source": [
    "# Visualize the click rate by hour\n",
    "clicked_by_country_hour = df.merge(df_1, left_on='hour', right_on='hour', how='inner').merge(df_2, left_on='hour', right_on='hour', how='inner')\n",
    "clicked_by_country_hour.plot(x='hour', y=['US_clicked', 'UK_clicked', 'EU_clicked'],\n",
    "                            marker='o', linestyle='dashed',\n",
    "                            linewidth=2, markersize=6)\n",
    "plt.show()"
   ]
  },
  {
   "cell_type": "markdown",
   "metadata": {},
   "source": [
    "Interestingly, three lines displaying click rate of three country groups vary in a comparable patterns through out the day. Getting to different local peaks at 9, 10, and 16, then outliners at 22 and 23. "
   ]
  },
  {
   "cell_type": "markdown",
   "metadata": {},
   "source": [
    "# 4. Product Recommendations:"
   ]
  },
  {
   "cell_type": "markdown",
   "metadata": {},
   "source": [
    "1. The campaign is doing fine with US and UK markets. However, we need to figure out why we are doing so poorly in ES and FR. Click rate in these two countries are disproportionately lower than that in US and UK. Maybe the email and link contents haven't adapted to the customer behaviors there.\n",
    "\n",
    "2. Click rate varies by time and countries. Schedule automatic email sender to send emails to different countries at particular click rate peak time (9, 10, 22, 23).\n",
    "\n",
    "3. Opened rate is much higher than clicked rate. This might mean people do care about the content of email, however, something wrong (too long, generic, and even boring) discourages them from clicking provided links. Therefore, we should: \n",
    "\n",
    "    3.1 Send more short and personalized emails.\n",
    "    \n",
    "    3.2 Because most link clicked during office our on weekdays, tailor the email content to make it more appealing to working people during this time frame.\n",
    "    \n",
    "4. To check if the campaigns optimizing our model results really increases click rate by approximately 20%, we do an A/B test between two groups at the same time: a group receives long and generic emails during weekend, another recieves short and personal emails during office hours. Then, we check the click rate difference between these two groups. "
   ]
  }
 ],
 "metadata": {
  "kernelspec": {
   "display_name": "Python 3",
   "language": "python",
   "name": "python3"
  },
  "language_info": {
   "codemirror_mode": {
    "name": "ipython",
    "version": 3
   },
   "file_extension": ".py",
   "mimetype": "text/x-python",
   "name": "python",
   "nbconvert_exporter": "python",
   "pygments_lexer": "ipython3",
   "version": "3.6.5"
  }
 },
 "nbformat": 4,
 "nbformat_minor": 2
}
